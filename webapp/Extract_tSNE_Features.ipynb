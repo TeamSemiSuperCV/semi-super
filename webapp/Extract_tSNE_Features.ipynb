{
 "cells": [
  {
   "cell_type": "code",
   "execution_count": null,
   "metadata": {
    "id": "K8vEFVepctnq"
   },
   "outputs": [],
   "source": [
    "![ ! -f \"pip_installed\" ] && pip install -q tensorflow-datasets==4.4.0\n",
    "!touch pip_installed"
   ]
  },
  {
   "cell_type": "code",
   "execution_count": null,
   "metadata": {
    "id": "WdAQygvRcbXg"
   },
   "outputs": [],
   "source": [
    "![ ! -d \"/root/tensorflow_datasets\" ] &&  unzip -qq /content/drive/MyDrive/TeamSemiSuperCV/Wing/xray_remix.zip -d /root/tensorflow_datasets\n",
    "# ![ ! -d \"/root/tensorflow_datasets\" ] &&  unzip -qq /content/drive/MyDrive/TeamSemiSuperCV/Wing/xray_reborn.zip -d /root/tensorflow_datasets"
   ]
  },
  {
   "cell_type": "code",
   "execution_count": null,
   "metadata": {
    "id": "oZT0_BLudQ6_"
   },
   "outputs": [],
   "source": [
    "import numpy as np\n",
    "import matplotlib.pyplot as plt\n",
    "import tensorflow as tf\n",
    "import tensorflow_datasets as tfds\n",
    "from importlib import reload\n",
    "from tensorflow.keras.applications import ResNet50\n",
    "from tensorflow.keras.layers import BatchNormalization, Dense, Dropout, Input, GlobalMaxPooling2D, Lambda\n",
    "from tensorflow.keras.layers.experimental.preprocessing import Rescaling\n",
    "from tensorflow.keras.models import Model"
   ]
  },
  {
   "cell_type": "code",
   "execution_count": null,
   "metadata": {
    "id": "8thqSMmCd5z2"
   },
   "outputs": [],
   "source": [
    "IMG_SIZE = (256, 256, 3)"
   ]
  },
  {
   "cell_type": "code",
   "execution_count": null,
   "metadata": {
    "id": "PnPVFXdzd5oY"
   },
   "outputs": [],
   "source": [
    "def img_preprocess(imgs):\n",
    "    imgs = tf.image.resize(imgs, IMG_SIZE[:2], method='bilinear')\n",
    "    imgs = tf.cast(imgs, tf.uint8)\n",
    "    return imgs\n",
    "\n",
    "def model_preprocess(x):\n",
    "    x = Rescaling(1/255)(x)\n",
    "    return x\n",
    "\n",
    "def make_model(input_shape):\n",
    "    base_model = ResNet50(include_top=False, pooling=None, weights=None,\n",
    "                          input_shape=input_shape)\n",
    "    \n",
    "    inputs = Input(shape=input_shape)\n",
    "    x = model_preprocess(inputs)\n",
    "    x = base_model(x)\n",
    "    x = Lambda(lambda x: x, name='lambda_1')(x)\n",
    "    x = GlobalMaxPooling2D()(x)\n",
    "    x = Dropout(0.4)(x)\n",
    "    x = BatchNormalization()(x)\n",
    "    x = Dense(64, activation='relu')(x)\n",
    "    x = Dropout(0.4)(x)\n",
    "    x = BatchNormalization()(x)\n",
    "    outputs = Dense(1, activation='sigmoid')(x)\n",
    "    \n",
    "    model = Model(inputs=inputs, outputs=outputs)\n",
    "    return model"
   ]
  },
  {
   "cell_type": "code",
   "execution_count": null,
   "metadata": {
    "colab": {
     "base_uri": "https://localhost:8080/"
    },
    "executionInfo": {
     "elapsed": 2661,
     "status": "ok",
     "timestamp": 1636525533669,
     "user": {
      "displayName": "Wing Poon",
      "photoUrl": "https://lh3.googleusercontent.com/a/default-user=s64",
      "userId": "05678926181994855364"
     },
     "user_tz": 480
    },
    "id": "J2wQx2aSd5TU",
    "outputId": "ff5992b7-508a-4d75-df0d-6692d4ff3bf1"
   },
   "outputs": [
    {
     "name": "stdout",
     "output_type": "stream",
     "text": [
      "Model: \"model\"\n",
      "_________________________________________________________________\n",
      " Layer (type)                Output Shape              Param #   \n",
      "=================================================================\n",
      " input_2 (InputLayer)        [(None, 256, 256, 3)]     0         \n",
      "                                                                 \n",
      " rescaling (Rescaling)       (None, 256, 256, 3)       0         \n",
      "                                                                 \n",
      " resnet50 (Functional)       (None, 8, 8, 2048)        23587712  \n",
      "                                                                 \n",
      " lambda_1 (Lambda)           (None, 8, 8, 2048)        0         \n",
      "                                                                 \n",
      " global_max_pooling2d (Globa  (None, 2048)             0         \n",
      " lMaxPooling2D)                                                  \n",
      "                                                                 \n",
      " dropout (Dropout)           (None, 2048)              0         \n",
      "                                                                 \n",
      " batch_normalization (BatchN  (None, 2048)             8192      \n",
      " ormalization)                                                   \n",
      "                                                                 \n",
      " dense (Dense)               (None, 64)                131136    \n",
      "                                                                 \n",
      " dropout_1 (Dropout)         (None, 64)                0         \n",
      "                                                                 \n",
      " batch_normalization_1 (Batc  (None, 64)               256       \n",
      " hNormalization)                                                 \n",
      "                                                                 \n",
      " dense_1 (Dense)             (None, 1)                 65        \n",
      "                                                                 \n",
      "=================================================================\n",
      "Total params: 23,727,361\n",
      "Trainable params: 0\n",
      "Non-trainable params: 23,727,361\n",
      "_________________________________________________________________\n"
     ]
    }
   ],
   "source": [
    "model = make_model(IMG_SIZE)\n",
    "model.build(IMG_SIZE)\n",
    "model.load_weights('/content/drive/MyDrive/TeamSemiSuperCV/Wing/FSL_Benchmarks/FSL_ResNet50_XrayRemix.h5')\n",
    "model.trainable = False\n",
    "model.summary()"
   ]
  },
  {
   "cell_type": "code",
   "execution_count": null,
   "metadata": {
    "colab": {
     "base_uri": "https://localhost:8080/"
    },
    "executionInfo": {
     "elapsed": 11,
     "status": "ok",
     "timestamp": 1636525533670,
     "user": {
      "displayName": "Wing Poon",
      "photoUrl": "https://lh3.googleusercontent.com/a/default-user=s64",
      "userId": "05678926181994855364"
     },
     "user_tz": 480
    },
    "id": "lFH-1O_teiKN",
    "outputId": "22f2e5f4-4a86-4aa1-cb16-1a6dc959e5ac"
   },
   "outputs": [
    {
     "name": "stdout",
     "output_type": "stream",
     "text": [
      "Model: \"model_1\"\n",
      "_________________________________________________________________\n",
      " Layer (type)                Output Shape              Param #   \n",
      "=================================================================\n",
      " input_2 (InputLayer)        [(None, 256, 256, 3)]     0         \n",
      "                                                                 \n",
      " rescaling (Rescaling)       (None, 256, 256, 3)       0         \n",
      "                                                                 \n",
      " resnet50 (Functional)       (None, 8, 8, 2048)        23587712  \n",
      "                                                                 \n",
      " lambda_1 (Lambda)           (None, 8, 8, 2048)        0         \n",
      "                                                                 \n",
      " global_max_pooling2d (Globa  (None, 2048)             0         \n",
      " lMaxPooling2D)                                                  \n",
      "                                                                 \n",
      " dropout (Dropout)           (None, 2048)              0         \n",
      "                                                                 \n",
      " batch_normalization (BatchN  (None, 2048)             8192      \n",
      " ormalization)                                                   \n",
      "                                                                 \n",
      " dense (Dense)               (None, 64)                131136    \n",
      "                                                                 \n",
      "=================================================================\n",
      "Total params: 23,727,040\n",
      "Trainable params: 0\n",
      "Non-trainable params: 23,727,040\n",
      "_________________________________________________________________\n"
     ]
    }
   ],
   "source": [
    "model_d = Model(inputs=model.input, outputs=model.layers[-4].output)\n",
    "model_d.summary()"
   ]
  },
  {
   "cell_type": "code",
   "execution_count": null,
   "metadata": {
    "id": "0LVABmVFdAfi"
   },
   "outputs": [],
   "source": [
    "ds = tfds.load('xray_remix')\n",
    "ds_train = ds['train']\n",
    "ds_valid = ds['validation']\n",
    "ds_test = ds['test']"
   ]
  },
  {
   "cell_type": "code",
   "execution_count": null,
   "metadata": {
    "colab": {
     "base_uri": "https://localhost:8080/"
    },
    "executionInfo": {
     "elapsed": 472,
     "status": "ok",
     "timestamp": 1636525534139,
     "user": {
      "displayName": "Wing Poon",
      "photoUrl": "https://lh3.googleusercontent.com/a/default-user=s64",
      "userId": "05678926181994855364"
     },
     "user_tz": 480
    },
    "id": "1dKjCb_DdNwe",
    "outputId": "3b17c99d-b76d-4bae-91c9-caa1d4fd33db"
   },
   "outputs": [
    {
     "data": {
      "text/plain": [
       "(TensorSpec(shape=(256, 256, 3), dtype=tf.uint8, name=None),\n",
       " TensorSpec(shape=(), dtype=tf.int64, name=None))"
      ]
     },
     "execution_count": 9,
     "metadata": {},
     "output_type": "execute_result"
    }
   ],
   "source": [
    "ds_train_xy = ds_train.map(lambda d: (d['image'], d['label']))\n",
    "ds_train_xy = ds_train_xy.map(lambda x, y: (img_preprocess(x), y))\n",
    "ds_train_xy.element_spec"
   ]
  },
  {
   "cell_type": "code",
   "execution_count": null,
   "metadata": {
    "colab": {
     "base_uri": "https://localhost:8080/"
    },
    "executionInfo": {
     "elapsed": 16172,
     "status": "ok",
     "timestamp": 1636525777820,
     "user": {
      "displayName": "Wing Poon",
      "photoUrl": "https://lh3.googleusercontent.com/a/default-user=s64",
      "userId": "05678926181994855364"
     },
     "user_tz": 480
    },
    "id": "zU3-l4ARfX6A",
    "outputId": "e1bdbbaf-4d81-4719-b055-d89ae7932cb8"
   },
   "outputs": [
    {
     "name": "stdout",
     "output_type": "stream",
     "text": [
      "(512, 256, 256, 3) (512,)\n",
      "(512, 256, 256, 3) (512,)\n",
      "(512, 256, 256, 3) (512,)\n",
      "(512, 256, 256, 3) (512,)\n",
      "(512, 256, 256, 3) (512,)\n",
      "(512, 256, 256, 3) (512,)\n",
      "(512, 256, 256, 3) (512,)\n",
      "(512, 256, 256, 3) (512,)\n",
      "(512, 256, 256, 3) (512,)\n",
      "(101, 256, 256, 3) (101,)\n"
     ]
    }
   ],
   "source": [
    "feats = []\n",
    "labels = []\n",
    "for batch_x, batch_y in ds_train_xy.batch(512):\n",
    "  print(batch_x.shape, batch_y.shape)\n",
    "  feats.append(model_d(batch_x, training=False))\n",
    "  labels.append(batch_y)"
   ]
  },
  {
   "cell_type": "code",
   "execution_count": null,
   "metadata": {
    "colab": {
     "base_uri": "https://localhost:8080/"
    },
    "executionInfo": {
     "elapsed": 18,
     "status": "ok",
     "timestamp": 1636525777821,
     "user": {
      "displayName": "Wing Poon",
      "photoUrl": "https://lh3.googleusercontent.com/a/default-user=s64",
      "userId": "05678926181994855364"
     },
     "user_tz": 480
    },
    "id": "s1pxjTCLf3F9",
    "outputId": "011bc4f7-b97b-417f-c05c-cdf1ba8d32b4"
   },
   "outputs": [
    {
     "data": {
      "text/plain": [
       "((4709, 64), (4709,))"
      ]
     },
     "execution_count": 15,
     "metadata": {},
     "output_type": "execute_result"
    }
   ],
   "source": [
    "feats = np.concatenate(feats)\n",
    "labels = np.concatenate(labels)\n",
    "feats.shape, labels.shape"
   ]
  },
  {
   "cell_type": "code",
   "execution_count": null,
   "metadata": {
    "id": "4uIQC1WRgkk7"
   },
   "outputs": [],
   "source": [
    "npz_file = '/content/drive/MyDrive/TeamSemiSuperCV/Wing/FSL_Benchmarks/FSL_ResNet50_XrayRemix_Feats.npz'\n",
    "np.savez(npz_file, feats=feats, labels=labels)"
   ]
  },
  {
   "cell_type": "code",
   "execution_count": null,
   "metadata": {
    "colab": {
     "base_uri": "https://localhost:8080/"
    },
    "executionInfo": {
     "elapsed": 9,
     "status": "ok",
     "timestamp": 1636525939976,
     "user": {
      "displayName": "Wing Poon",
      "photoUrl": "https://lh3.googleusercontent.com/a/default-user=s64",
      "userId": "05678926181994855364"
     },
     "user_tz": 480
    },
    "id": "YwRsBkyUiqUV",
    "outputId": "c01c4b3c-923c-4b36-ec3a-99f194d968e9"
   },
   "outputs": [
    {
     "data": {
      "text/plain": [
       "((4709, 64), (4709,))"
      ]
     },
     "execution_count": 21,
     "metadata": {},
     "output_type": "execute_result"
    }
   ],
   "source": [
    "npz = np.load(npz_file)\n",
    "npz['feats'].shape, npz['labels'].shape"
   ]
  },
  {
   "cell_type": "code",
   "execution_count": null,
   "metadata": {
    "colab": {
     "base_uri": "https://localhost:8080/"
    },
    "executionInfo": {
     "elapsed": 251,
     "status": "ok",
     "timestamp": 1636525956200,
     "user": {
      "displayName": "Wing Poon",
      "photoUrl": "https://lh3.googleusercontent.com/a/default-user=s64",
      "userId": "05678926181994855364"
     },
     "user_tz": 480
    },
    "id": "ZFG7iOr-i7sn",
    "outputId": "7fe4653a-0b4c-42d6-a2f0-b557304bdfc6"
   },
   "outputs": [
    {
     "data": {
      "text/plain": [
       "array([2.4017837 , 0.        , 0.        , 0.        , 2.4170513 ,\n",
       "       0.        , 0.        , 0.        , 2.7228842 , 3.1175122 ,\n",
       "       1.8136047 , 0.        , 2.2815256 , 2.469659  , 2.4685247 ,\n",
       "       0.        , 0.        , 0.        , 1.8989674 , 0.        ,\n",
       "       2.940175  , 0.        , 0.        , 0.        , 3.3693464 ,\n",
       "       2.0837808 , 3.6419716 , 0.        , 0.        , 0.        ,\n",
       "       0.        , 0.        , 0.        , 2.025196  , 0.        ,\n",
       "       0.        , 4.2839036 , 0.        , 0.        , 0.        ,\n",
       "       0.        , 0.        , 3.4485183 , 0.        , 0.        ,\n",
       "       0.        , 0.        , 0.        , 0.        , 0.        ,\n",
       "       1.1054622 , 0.        , 0.        , 0.        , 0.        ,\n",
       "       0.        , 0.24951418, 0.        , 0.        , 0.        ,\n",
       "       2.4928255 , 0.        , 3.1274517 , 0.        ], dtype=float32)"
      ]
     },
     "execution_count": 22,
     "metadata": {},
     "output_type": "execute_result"
    }
   ],
   "source": [
    "npz['feats'][0]"
   ]
  },
  {
   "cell_type": "code",
   "execution_count": null,
   "metadata": {
    "colab": {
     "base_uri": "https://localhost:8080/"
    },
    "executionInfo": {
     "elapsed": 219,
     "status": "ok",
     "timestamp": 1636525986420,
     "user": {
      "displayName": "Wing Poon",
      "photoUrl": "https://lh3.googleusercontent.com/a/default-user=s64",
      "userId": "05678926181994855364"
     },
     "user_tz": 480
    },
    "id": "q1dTS3EyjFos",
    "outputId": "b9455684-8232-45b9-83b1-9eeda67272b2"
   },
   "outputs": [
    {
     "data": {
      "text/plain": [
       "array([1, 1, 1, 1, 1, 1, 1, 1, 1, 1, 0, 1, 0, 1, 1, 1, 1, 1, 1, 1, 0, 1,\n",
       "       1, 0, 0, 1, 1, 1, 0, 1, 0, 1, 1, 1, 0, 0, 0, 0, 1, 1, 1, 1, 0, 0,\n",
       "       1, 0, 0, 1, 1, 0])"
      ]
     },
     "execution_count": 25,
     "metadata": {},
     "output_type": "execute_result"
    }
   ],
   "source": [
    "npz['labels'][:50]"
   ]
  },
  {
   "cell_type": "code",
   "execution_count": null,
   "metadata": {
    "id": "B3a4wn4QjI8M"
   },
   "outputs": [],
   "source": []
  },
  {
   "cell_type": "code",
   "execution_count": 38,
   "metadata": {
    "colab": {
     "base_uri": "https://localhost:8080/",
     "height": 282
    },
    "executionInfo": {
     "elapsed": 312,
     "status": "ok",
     "timestamp": 1636526921982,
     "user": {
      "displayName": "Wing Poon",
      "photoUrl": "https://lh3.googleusercontent.com/a/default-user=s64",
      "userId": "05678926181994855364"
     },
     "user_tz": 480
    },
    "id": "jgDAnfZFlULZ",
    "outputId": "e895ad90-2465-4ec5-ad9b-8df7363995d6"
   },
   "outputs": [
    {
     "data": {
      "text/plain": [
       "[<matplotlib.lines.Line2D at 0x7f1824101dd0>]"
      ]
     },
     "execution_count": 38,
     "metadata": {},
     "output_type": "execute_result"
    },
    {
     "data": {
      "image/png": "[encoded data removed]",
      "text/plain": [
       "<Figure size 432x288 with 1 Axes>"
      ]
     },
     "metadata": {
      "needs_background": "light"
     },
     "output_type": "display_data"
    }
   ],
   "source": [
    "plt.plot([1,3,2],[2,3,4])"
   ]
  },
  {
   "cell_type": "code",
   "execution_count": 51,
   "metadata": {
    "colab": {
     "base_uri": "https://localhost:8080/",
     "height": 248
    },
    "executionInfo": {
     "elapsed": 587,
     "status": "ok",
     "timestamp": 1636527257975,
     "user": {
      "displayName": "Wing Poon",
      "photoUrl": "https://lh3.googleusercontent.com/a/default-user=s64",
      "userId": "05678926181994855364"
     },
     "user_tz": 480
    },
    "id": "5Fjl9A_mlZv-",
    "outputId": "31d59164-4382-4c7e-f1a6-b3e0e1a432e7"
   },
   "outputs": [
    {
     "data": {
      "image/png": "[encoded data removed]",
      "text/plain": [
       "<Figure size 432x288 with 1 Axes>"
      ]
     },
     "metadata": {},
     "output_type": "display_data"
    }
   ],
   "source": [
    "plt.plot([1,3,2],[2,3,4])\n",
    "plt.tick_params(axis='both', which='both', bottom=False, left=False,\n",
    "                labelbottom=False, labelleft=False)\n",
    "plt.show()"
   ]
  },
  {
   "cell_type": "code",
   "execution_count": null,
   "metadata": {
    "id": "ydzkgWKalzE7"
   },
   "outputs": [],
   "source": []
  }
 ],
 "metadata": {
  "accelerator": "GPU",
  "colab": {
   "authorship_tag": "ABX9TyPj4FU5P14/WiJT8P6k+aBX",
   "collapsed_sections": [],
   "mount_file_id": "1fOIsWIJL-knuqOLdo7q2GJddPUjiOUrZ",
   "name": "Extract_tSNE_Features.ipynb",
   "provenance": []
  },
  "kernelspec": {
   "display_name": "Python 3 (ipykernel)",
   "language": "python",
   "name": "python3"
  },
  "language_info": {
   "codemirror_mode": {
    "name": "ipython",
    "version": 3
   },
   "file_extension": ".py",
   "mimetype": "text/x-python",
   "name": "python",
   "nbconvert_exporter": "python",
   "pygments_lexer": "ipython3",
   "version": "3.9.7"
  }
 },
 "nbformat": 4,
 "nbformat_minor": 1
}
