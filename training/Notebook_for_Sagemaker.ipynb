{
  "nbformat": 4,
  "nbformat_minor": 0,
  "metadata": {
    "colab": {
      "name": "Notebook for Sagemaker.ipynb",
      "provenance": [],
      "collapsed_sections": [],
      "machine_shape": "hm"
    },
    "kernelspec": {
      "display_name": "Python 3",
      "name": "python3"
    },
    "language_info": {
      "name": "python"
    }
  },
  "cells": [
    {
      "cell_type": "code",
      "metadata": {
        "colab": {
          "base_uri": "https://localhost:8080/"
        },
        "id": "R6H0u4iX4tOW",
        "outputId": "adc36f17-3aa9-4ba8-bcc2-08edfcda2498"
      },
      "source": [
        "# check gpu\n",
        "!nvidia-smi -L"
      ],
      "execution_count": null,
      "outputs": [
        {
          "output_type": "stream",
          "name": "stdout",
          "text": [
            "GPU 0: Tesla P100-PCIE-16GB (UUID: GPU-032605d3-7988-b867-546d-28fe85d15854)\n"
          ]
        }
      ]
    },
    {
      "cell_type": "code",
      "metadata": {
        "colab": {
          "base_uri": "https://localhost:8080/"
        },
        "id": "ByfJbiYK7pzt",
        "outputId": "ed8340a8-25ac-40bf-e3bd-1305e9ca0316"
      },
      "source": [
        "# get latest version of tfds\n",
        "![ ! -f \"pip_installed\" ] && pip install tensorflow-datasets==4.4.0\n",
        "!touch pip_installed"
      ],
      "execution_count": null,
      "outputs": [
        {
          "output_type": "stream",
          "name": "stdout",
          "text": [
            "Collecting tensorflow-datasets==4.4.0\n",
            "  Downloading tensorflow_datasets-4.4.0-py3-none-any.whl (4.0 MB)\n",
            "\u001b[?25l\r\u001b[K     |                                | 10 kB 29.0 MB/s eta 0:00:01\r\u001b[K     |▏                               | 20 kB 36.4 MB/s eta 0:00:01\r\u001b[K     |▎                               | 30 kB 24.2 MB/s eta 0:00:01\r\u001b[K     |▎                               | 40 kB 18.9 MB/s eta 0:00:01\r\u001b[K     |▍                               | 51 kB 10.1 MB/s eta 0:00:01\r\u001b[K     |▌                               | 61 kB 10.4 MB/s eta 0:00:01\r\u001b[K     |▋                               | 71 kB 10.1 MB/s eta 0:00:01\r\u001b[K     |▋                               | 81 kB 11.2 MB/s eta 0:00:01\r\u001b[K     |▊                               | 92 kB 11.3 MB/s eta 0:00:01\r\u001b[K     |▉                               | 102 kB 9.3 MB/s eta 0:00:01\r\u001b[K     |█                               | 112 kB 9.3 MB/s eta 0:00:01\r\u001b[K     |█                               | 122 kB 9.3 MB/s eta 0:00:01\r\u001b[K     |█                               | 133 kB 9.3 MB/s eta 0:00:01\r\u001b[K     |█▏                              | 143 kB 9.3 MB/s eta 0:00:01\r\u001b[K     |█▎                              | 153 kB 9.3 MB/s eta 0:00:01\r\u001b[K     |█▎                              | 163 kB 9.3 MB/s eta 0:00:01\r\u001b[K     |█▍                              | 174 kB 9.3 MB/s eta 0:00:01\r\u001b[K     |█▌                              | 184 kB 9.3 MB/s eta 0:00:01\r\u001b[K     |█▋                              | 194 kB 9.3 MB/s eta 0:00:01\r\u001b[K     |█▋                              | 204 kB 9.3 MB/s eta 0:00:01\r\u001b[K     |█▊                              | 215 kB 9.3 MB/s eta 0:00:01\r\u001b[K     |█▉                              | 225 kB 9.3 MB/s eta 0:00:01\r\u001b[K     |██                              | 235 kB 9.3 MB/s eta 0:00:01\r\u001b[K     |██                              | 245 kB 9.3 MB/s eta 0:00:01\r\u001b[K     |██                              | 256 kB 9.3 MB/s eta 0:00:01\r\u001b[K     |██▏                             | 266 kB 9.3 MB/s eta 0:00:01\r\u001b[K     |██▎                             | 276 kB 9.3 MB/s eta 0:00:01\r\u001b[K     |██▎                             | 286 kB 9.3 MB/s eta 0:00:01\r\u001b[K     |██▍                             | 296 kB 9.3 MB/s eta 0:00:01\r\u001b[K     |██▌                             | 307 kB 9.3 MB/s eta 0:00:01\r\u001b[K     |██▋                             | 317 kB 9.3 MB/s eta 0:00:01\r\u001b[K     |██▋                             | 327 kB 9.3 MB/s eta 0:00:01\r\u001b[K     |██▊                             | 337 kB 9.3 MB/s eta 0:00:01\r\u001b[K     |██▉                             | 348 kB 9.3 MB/s eta 0:00:01\r\u001b[K     |███                             | 358 kB 9.3 MB/s eta 0:00:01\r\u001b[K     |███                             | 368 kB 9.3 MB/s eta 0:00:01\r\u001b[K     |███                             | 378 kB 9.3 MB/s eta 0:00:01\r\u001b[K     |███▏                            | 389 kB 9.3 MB/s eta 0:00:01\r\u001b[K     |███▎                            | 399 kB 9.3 MB/s eta 0:00:01\r\u001b[K     |███▎                            | 409 kB 9.3 MB/s eta 0:00:01\r\u001b[K     |███▍                            | 419 kB 9.3 MB/s eta 0:00:01\r\u001b[K     |███▌                            | 430 kB 9.3 MB/s eta 0:00:01\r\u001b[K     |███▋                            | 440 kB 9.3 MB/s eta 0:00:01\r\u001b[K     |███▋                            | 450 kB 9.3 MB/s eta 0:00:01\r\u001b[K     |███▊                            | 460 kB 9.3 MB/s eta 0:00:01\r\u001b[K     |███▉                            | 471 kB 9.3 MB/s eta 0:00:01\r\u001b[K     |████                            | 481 kB 9.3 MB/s eta 0:00:01\r\u001b[K     |████                            | 491 kB 9.3 MB/s eta 0:00:01\r\u001b[K     |████                            | 501 kB 9.3 MB/s eta 0:00:01\r\u001b[K     |████▏                           | 512 kB 9.3 MB/s eta 0:00:01\r\u001b[K     |████▎                           | 522 kB 9.3 MB/s eta 0:00:01\r\u001b[K     |████▎                           | 532 kB 9.3 MB/s eta 0:00:01\r\u001b[K     |████▍                           | 542 kB 9.3 MB/s eta 0:00:01\r\u001b[K     |████▌                           | 552 kB 9.3 MB/s eta 0:00:01\r\u001b[K     |████▌                           | 563 kB 9.3 MB/s eta 0:00:01\r\u001b[K     |████▋                           | 573 kB 9.3 MB/s eta 0:00:01\r\u001b[K     |████▊                           | 583 kB 9.3 MB/s eta 0:00:01\r\u001b[K     |████▉                           | 593 kB 9.3 MB/s eta 0:00:01\r\u001b[K     |████▉                           | 604 kB 9.3 MB/s eta 0:00:01\r\u001b[K     |█████                           | 614 kB 9.3 MB/s eta 0:00:01\r\u001b[K     |█████                           | 624 kB 9.3 MB/s eta 0:00:01\r\u001b[K     |█████▏                          | 634 kB 9.3 MB/s eta 0:00:01\r\u001b[K     |█████▏                          | 645 kB 9.3 MB/s eta 0:00:01\r\u001b[K     |█████▎                          | 655 kB 9.3 MB/s eta 0:00:01\r\u001b[K     |█████▍                          | 665 kB 9.3 MB/s eta 0:00:01\r\u001b[K     |█████▌                          | 675 kB 9.3 MB/s eta 0:00:01\r\u001b[K     |█████▌                          | 686 kB 9.3 MB/s eta 0:00:01\r\u001b[K     |█████▋                          | 696 kB 9.3 MB/s eta 0:00:01\r\u001b[K     |█████▊                          | 706 kB 9.3 MB/s eta 0:00:01\r\u001b[K     |█████▉                          | 716 kB 9.3 MB/s eta 0:00:01\r\u001b[K     |█████▉                          | 727 kB 9.3 MB/s eta 0:00:01\r\u001b[K     |██████                          | 737 kB 9.3 MB/s eta 0:00:01\r\u001b[K     |██████                          | 747 kB 9.3 MB/s eta 0:00:01\r\u001b[K     |██████▏                         | 757 kB 9.3 MB/s eta 0:00:01\r\u001b[K     |██████▏                         | 768 kB 9.3 MB/s eta 0:00:01\r\u001b[K     |██████▎                         | 778 kB 9.3 MB/s eta 0:00:01\r\u001b[K     |██████▍                         | 788 kB 9.3 MB/s eta 0:00:01\r\u001b[K     |██████▌                         | 798 kB 9.3 MB/s eta 0:00:01\r\u001b[K     |██████▌                         | 808 kB 9.3 MB/s eta 0:00:01\r\u001b[K     |██████▋                         | 819 kB 9.3 MB/s eta 0:00:01\r\u001b[K     |██████▊                         | 829 kB 9.3 MB/s eta 0:00:01\r\u001b[K     |██████▉                         | 839 kB 9.3 MB/s eta 0:00:01\r\u001b[K     |██████▉                         | 849 kB 9.3 MB/s eta 0:00:01\r\u001b[K     |███████                         | 860 kB 9.3 MB/s eta 0:00:01\r\u001b[K     |███████                         | 870 kB 9.3 MB/s eta 0:00:01\r\u001b[K     |███████▏                        | 880 kB 9.3 MB/s eta 0:00:01\r\u001b[K     |███████▏                        | 890 kB 9.3 MB/s eta 0:00:01\r\u001b[K     |███████▎                        | 901 kB 9.3 MB/s eta 0:00:01\r\u001b[K     |███████▍                        | 911 kB 9.3 MB/s eta 0:00:01\r\u001b[K     |███████▌                        | 921 kB 9.3 MB/s eta 0:00:01\r\u001b[K     |███████▌                        | 931 kB 9.3 MB/s eta 0:00:01\r\u001b[K     |███████▋                        | 942 kB 9.3 MB/s eta 0:00:01\r\u001b[K     |███████▊                        | 952 kB 9.3 MB/s eta 0:00:01\r\u001b[K     |███████▉                        | 962 kB 9.3 MB/s eta 0:00:01\r\u001b[K     |███████▉                        | 972 kB 9.3 MB/s eta 0:00:01\r\u001b[K     |████████                        | 983 kB 9.3 MB/s eta 0:00:01\r\u001b[K     |████████                        | 993 kB 9.3 MB/s eta 0:00:01\r\u001b[K     |████████▏                       | 1.0 MB 9.3 MB/s eta 0:00:01\r\u001b[K     |████████▏                       | 1.0 MB 9.3 MB/s eta 0:00:01\r\u001b[K     |████████▎                       | 1.0 MB 9.3 MB/s eta 0:00:01\r\u001b[K     |████████▍                       | 1.0 MB 9.3 MB/s eta 0:00:01\r\u001b[K     |████████▌                       | 1.0 MB 9.3 MB/s eta 0:00:01\r\u001b[K     |████████▌                       | 1.1 MB 9.3 MB/s eta 0:00:01\r\u001b[K     |████████▋                       | 1.1 MB 9.3 MB/s eta 0:00:01\r\u001b[K     |████████▊                       | 1.1 MB 9.3 MB/s eta 0:00:01\r\u001b[K     |████████▊                       | 1.1 MB 9.3 MB/s eta 0:00:01\r\u001b[K     |████████▉                       | 1.1 MB 9.3 MB/s eta 0:00:01\r\u001b[K     |█████████                       | 1.1 MB 9.3 MB/s eta 0:00:01\r\u001b[K     |█████████                       | 1.1 MB 9.3 MB/s eta 0:00:01\r\u001b[K     |█████████                       | 1.1 MB 9.3 MB/s eta 0:00:01\r\u001b[K     |█████████▏                      | 1.1 MB 9.3 MB/s eta 0:00:01\r\u001b[K     |█████████▎                      | 1.1 MB 9.3 MB/s eta 0:00:01\r\u001b[K     |█████████▍                      | 1.2 MB 9.3 MB/s eta 0:00:01\r\u001b[K     |█████████▍                      | 1.2 MB 9.3 MB/s eta 0:00:01\r\u001b[K     |█████████▌                      | 1.2 MB 9.3 MB/s eta 0:00:01\r\u001b[K     |█████████▋                      | 1.2 MB 9.3 MB/s eta 0:00:01\r\u001b[K     |█████████▊                      | 1.2 MB 9.3 MB/s eta 0:00:01\r\u001b[K     |█████████▊                      | 1.2 MB 9.3 MB/s eta 0:00:01\r\u001b[K     |█████████▉                      | 1.2 MB 9.3 MB/s eta 0:00:01\r\u001b[K     |██████████                      | 1.2 MB 9.3 MB/s eta 0:00:01\r\u001b[K     |██████████                      | 1.2 MB 9.3 MB/s eta 0:00:01\r\u001b[K     |██████████                      | 1.2 MB 9.3 MB/s eta 0:00:01\r\u001b[K     |██████████▏                     | 1.3 MB 9.3 MB/s eta 0:00:01\r\u001b[K     |██████████▎                     | 1.3 MB 9.3 MB/s eta 0:00:01\r\u001b[K     |██████████▍                     | 1.3 MB 9.3 MB/s eta 0:00:01\r\u001b[K     |██████████▍                     | 1.3 MB 9.3 MB/s eta 0:00:01\r\u001b[K     |██████████▌                     | 1.3 MB 9.3 MB/s eta 0:00:01\r\u001b[K     |██████████▋                     | 1.3 MB 9.3 MB/s eta 0:00:01\r\u001b[K     |██████████▊                     | 1.3 MB 9.3 MB/s eta 0:00:01\r\u001b[K     |██████████▊                     | 1.3 MB 9.3 MB/s eta 0:00:01\r\u001b[K     |██████████▉                     | 1.3 MB 9.3 MB/s eta 0:00:01\r\u001b[K     |███████████                     | 1.4 MB 9.3 MB/s eta 0:00:01\r\u001b[K     |███████████                     | 1.4 MB 9.3 MB/s eta 0:00:01\r\u001b[K     |███████████                     | 1.4 MB 9.3 MB/s eta 0:00:01\r\u001b[K     |███████████▏                    | 1.4 MB 9.3 MB/s eta 0:00:01\r\u001b[K     |███████████▎                    | 1.4 MB 9.3 MB/s eta 0:00:01\r\u001b[K     |███████████▍                    | 1.4 MB 9.3 MB/s eta 0:00:01\r\u001b[K     |███████████▍                    | 1.4 MB 9.3 MB/s eta 0:00:01\r\u001b[K     |███████████▌                    | 1.4 MB 9.3 MB/s eta 0:00:01\r\u001b[K     |███████████▋                    | 1.4 MB 9.3 MB/s eta 0:00:01\r\u001b[K     |███████████▊                    | 1.4 MB 9.3 MB/s eta 0:00:01\r\u001b[K     |███████████▊                    | 1.5 MB 9.3 MB/s eta 0:00:01\r\u001b[K     |███████████▉                    | 1.5 MB 9.3 MB/s eta 0:00:01\r\u001b[K     |████████████                    | 1.5 MB 9.3 MB/s eta 0:00:01\r\u001b[K     |████████████                    | 1.5 MB 9.3 MB/s eta 0:00:01\r\u001b[K     |████████████                    | 1.5 MB 9.3 MB/s eta 0:00:01\r\u001b[K     |████████████▏                   | 1.5 MB 9.3 MB/s eta 0:00:01\r\u001b[K     |████████████▎                   | 1.5 MB 9.3 MB/s eta 0:00:01\r\u001b[K     |████████████▍                   | 1.5 MB 9.3 MB/s eta 0:00:01\r\u001b[K     |████████████▍                   | 1.5 MB 9.3 MB/s eta 0:00:01\r\u001b[K     |████████████▌                   | 1.5 MB 9.3 MB/s eta 0:00:01\r\u001b[K     |████████████▋                   | 1.6 MB 9.3 MB/s eta 0:00:01\r\u001b[K     |████████████▊                   | 1.6 MB 9.3 MB/s eta 0:00:01\r\u001b[K     |████████████▊                   | 1.6 MB 9.3 MB/s eta 0:00:01\r\u001b[K     |████████████▉                   | 1.6 MB 9.3 MB/s eta 0:00:01\r\u001b[K     |█████████████                   | 1.6 MB 9.3 MB/s eta 0:00:01\r\u001b[K     |█████████████                   | 1.6 MB 9.3 MB/s eta 0:00:01\r\u001b[K     |█████████████                   | 1.6 MB 9.3 MB/s eta 0:00:01\r\u001b[K     |█████████████▏                  | 1.6 MB 9.3 MB/s eta 0:00:01\r\u001b[K     |█████████████▎                  | 1.6 MB 9.3 MB/s eta 0:00:01\r\u001b[K     |█████████████▎                  | 1.6 MB 9.3 MB/s eta 0:00:01\r\u001b[K     |█████████████▍                  | 1.7 MB 9.3 MB/s eta 0:00:01\r\u001b[K     |█████████████▌                  | 1.7 MB 9.3 MB/s eta 0:00:01\r\u001b[K     |█████████████▋                  | 1.7 MB 9.3 MB/s eta 0:00:01\r\u001b[K     |█████████████▋                  | 1.7 MB 9.3 MB/s eta 0:00:01\r\u001b[K     |█████████████▊                  | 1.7 MB 9.3 MB/s eta 0:00:01\r\u001b[K     |█████████████▉                  | 1.7 MB 9.3 MB/s eta 0:00:01\r\u001b[K     |██████████████                  | 1.7 MB 9.3 MB/s eta 0:00:01\r\u001b[K     |██████████████                  | 1.7 MB 9.3 MB/s eta 0:00:01\r\u001b[K     |██████████████                  | 1.7 MB 9.3 MB/s eta 0:00:01\r\u001b[K     |██████████████▏                 | 1.8 MB 9.3 MB/s eta 0:00:01\r\u001b[K     |██████████████▎                 | 1.8 MB 9.3 MB/s eta 0:00:01\r\u001b[K     |██████████████▎                 | 1.8 MB 9.3 MB/s eta 0:00:01\r\u001b[K     |██████████████▍                 | 1.8 MB 9.3 MB/s eta 0:00:01\r\u001b[K     |██████████████▌                 | 1.8 MB 9.3 MB/s eta 0:00:01\r\u001b[K     |██████████████▋                 | 1.8 MB 9.3 MB/s eta 0:00:01\r\u001b[K     |██████████████▋                 | 1.8 MB 9.3 MB/s eta 0:00:01\r\u001b[K     |██████████████▊                 | 1.8 MB 9.3 MB/s eta 0:00:01\r\u001b[K     |██████████████▉                 | 1.8 MB 9.3 MB/s eta 0:00:01\r\u001b[K     |███████████████                 | 1.8 MB 9.3 MB/s eta 0:00:01\r\u001b[K     |███████████████                 | 1.9 MB 9.3 MB/s eta 0:00:01\r\u001b[K     |███████████████                 | 1.9 MB 9.3 MB/s eta 0:00:01\r\u001b[K     |███████████████▏                | 1.9 MB 9.3 MB/s eta 0:00:01\r\u001b[K     |███████████████▎                | 1.9 MB 9.3 MB/s eta 0:00:01\r\u001b[K     |███████████████▎                | 1.9 MB 9.3 MB/s eta 0:00:01\r\u001b[K     |███████████████▍                | 1.9 MB 9.3 MB/s eta 0:00:01\r\u001b[K     |███████████████▌                | 1.9 MB 9.3 MB/s eta 0:00:01\r\u001b[K     |███████████████▋                | 1.9 MB 9.3 MB/s eta 0:00:01\r\u001b[K     |███████████████▋                | 1.9 MB 9.3 MB/s eta 0:00:01\r\u001b[K     |███████████████▊                | 1.9 MB 9.3 MB/s eta 0:00:01\r\u001b[K     |███████████████▉                | 2.0 MB 9.3 MB/s eta 0:00:01\r\u001b[K     |████████████████                | 2.0 MB 9.3 MB/s eta 0:00:01\r\u001b[K     |████████████████                | 2.0 MB 9.3 MB/s eta 0:00:01\r\u001b[K     |████████████████                | 2.0 MB 9.3 MB/s eta 0:00:01\r\u001b[K     |████████████████▏               | 2.0 MB 9.3 MB/s eta 0:00:01\r\u001b[K     |████████████████▎               | 2.0 MB 9.3 MB/s eta 0:00:01\r\u001b[K     |████████████████▎               | 2.0 MB 9.3 MB/s eta 0:00:01\r\u001b[K     |████████████████▍               | 2.0 MB 9.3 MB/s eta 0:00:01\r\u001b[K     |████████████████▌               | 2.0 MB 9.3 MB/s eta 0:00:01\r\u001b[K     |████████████████▋               | 2.0 MB 9.3 MB/s eta 0:00:01\r\u001b[K     |████████████████▋               | 2.1 MB 9.3 MB/s eta 0:00:01\r\u001b[K     |████████████████▊               | 2.1 MB 9.3 MB/s eta 0:00:01\r\u001b[K     |████████████████▉               | 2.1 MB 9.3 MB/s eta 0:00:01\r\u001b[K     |█████████████████               | 2.1 MB 9.3 MB/s eta 0:00:01\r\u001b[K     |█████████████████               | 2.1 MB 9.3 MB/s eta 0:00:01\r\u001b[K     |█████████████████               | 2.1 MB 9.3 MB/s eta 0:00:01\r\u001b[K     |█████████████████▏              | 2.1 MB 9.3 MB/s eta 0:00:01\r\u001b[K     |█████████████████▏              | 2.1 MB 9.3 MB/s eta 0:00:01\r\u001b[K     |█████████████████▎              | 2.1 MB 9.3 MB/s eta 0:00:01\r\u001b[K     |█████████████████▍              | 2.2 MB 9.3 MB/s eta 0:00:01\r\u001b[K     |█████████████████▌              | 2.2 MB 9.3 MB/s eta 0:00:01\r\u001b[K     |█████████████████▌              | 2.2 MB 9.3 MB/s eta 0:00:01\r\u001b[K     |█████████████████▋              | 2.2 MB 9.3 MB/s eta 0:00:01\r\u001b[K     |█████████████████▊              | 2.2 MB 9.3 MB/s eta 0:00:01\r\u001b[K     |█████████████████▉              | 2.2 MB 9.3 MB/s eta 0:00:01\r\u001b[K     |█████████████████▉              | 2.2 MB 9.3 MB/s eta 0:00:01\r\u001b[K     |██████████████████              | 2.2 MB 9.3 MB/s eta 0:00:01\r\u001b[K     |██████████████████              | 2.2 MB 9.3 MB/s eta 0:00:01\r\u001b[K     |██████████████████▏             | 2.2 MB 9.3 MB/s eta 0:00:01\r\u001b[K     |██████████████████▏             | 2.3 MB 9.3 MB/s eta 0:00:01\r\u001b[K     |██████████████████▎             | 2.3 MB 9.3 MB/s eta 0:00:01\r\u001b[K     |██████████████████▍             | 2.3 MB 9.3 MB/s eta 0:00:01\r\u001b[K     |██████████████████▌             | 2.3 MB 9.3 MB/s eta 0:00:01\r\u001b[K     |██████████████████▌             | 2.3 MB 9.3 MB/s eta 0:00:01\r\u001b[K     |██████████████████▋             | 2.3 MB 9.3 MB/s eta 0:00:01\r\u001b[K     |██████████████████▊             | 2.3 MB 9.3 MB/s eta 0:00:01\r\u001b[K     |██████████████████▉             | 2.3 MB 9.3 MB/s eta 0:00:01\r\u001b[K     |██████████████████▉             | 2.3 MB 9.3 MB/s eta 0:00:01\r\u001b[K     |███████████████████             | 2.3 MB 9.3 MB/s eta 0:00:01\r\u001b[K     |███████████████████             | 2.4 MB 9.3 MB/s eta 0:00:01\r\u001b[K     |███████████████████▏            | 2.4 MB 9.3 MB/s eta 0:00:01\r\u001b[K     |███████████████████▏            | 2.4 MB 9.3 MB/s eta 0:00:01\r\u001b[K     |███████████████████▎            | 2.4 MB 9.3 MB/s eta 0:00:01\r\u001b[K     |███████████████████▍            | 2.4 MB 9.3 MB/s eta 0:00:01\r\u001b[K     |███████████████████▌            | 2.4 MB 9.3 MB/s eta 0:00:01\r\u001b[K     |███████████████████▌            | 2.4 MB 9.3 MB/s eta 0:00:01\r\u001b[K     |███████████████████▋            | 2.4 MB 9.3 MB/s eta 0:00:01\r\u001b[K     |███████████████████▊            | 2.4 MB 9.3 MB/s eta 0:00:01\r\u001b[K     |███████████████████▉            | 2.4 MB 9.3 MB/s eta 0:00:01\r\u001b[K     |███████████████████▉            | 2.5 MB 9.3 MB/s eta 0:00:01\r\u001b[K     |████████████████████            | 2.5 MB 9.3 MB/s eta 0:00:01\r\u001b[K     |████████████████████            | 2.5 MB 9.3 MB/s eta 0:00:01\r\u001b[K     |████████████████████▏           | 2.5 MB 9.3 MB/s eta 0:00:01\r\u001b[K     |████████████████████▏           | 2.5 MB 9.3 MB/s eta 0:00:01\r\u001b[K     |████████████████████▎           | 2.5 MB 9.3 MB/s eta 0:00:01\r\u001b[K     |████████████████████▍           | 2.5 MB 9.3 MB/s eta 0:00:01\r\u001b[K     |████████████████████▌           | 2.5 MB 9.3 MB/s eta 0:00:01\r\u001b[K     |████████████████████▌           | 2.5 MB 9.3 MB/s eta 0:00:01\r\u001b[K     |████████████████████▋           | 2.5 MB 9.3 MB/s eta 0:00:01\r\u001b[K     |████████████████████▊           | 2.6 MB 9.3 MB/s eta 0:00:01\r\u001b[K     |████████████████████▉           | 2.6 MB 9.3 MB/s eta 0:00:01\r\u001b[K     |████████████████████▉           | 2.6 MB 9.3 MB/s eta 0:00:01\r\u001b[K     |█████████████████████           | 2.6 MB 9.3 MB/s eta 0:00:01\r\u001b[K     |█████████████████████           | 2.6 MB 9.3 MB/s eta 0:00:01\r\u001b[K     |█████████████████████▏          | 2.6 MB 9.3 MB/s eta 0:00:01\r\u001b[K     |█████████████████████▏          | 2.6 MB 9.3 MB/s eta 0:00:01\r\u001b[K     |█████████████████████▎          | 2.6 MB 9.3 MB/s eta 0:00:01\r\u001b[K     |█████████████████████▍          | 2.6 MB 9.3 MB/s eta 0:00:01\r\u001b[K     |█████████████████████▍          | 2.7 MB 9.3 MB/s eta 0:00:01\r\u001b[K     |█████████████████████▌          | 2.7 MB 9.3 MB/s eta 0:00:01\r\u001b[K     |█████████████████████▋          | 2.7 MB 9.3 MB/s eta 0:00:01\r\u001b[K     |█████████████████████▊          | 2.7 MB 9.3 MB/s eta 0:00:01\r\u001b[K     |█████████████████████▊          | 2.7 MB 9.3 MB/s eta 0:00:01\r\u001b[K     |█████████████████████▉          | 2.7 MB 9.3 MB/s eta 0:00:01\r\u001b[K     |██████████████████████          | 2.7 MB 9.3 MB/s eta 0:00:01\r\u001b[K     |██████████████████████          | 2.7 MB 9.3 MB/s eta 0:00:01\r\u001b[K     |██████████████████████          | 2.7 MB 9.3 MB/s eta 0:00:01\r\u001b[K     |██████████████████████▏         | 2.7 MB 9.3 MB/s eta 0:00:01\r\u001b[K     |██████████████████████▎         | 2.8 MB 9.3 MB/s eta 0:00:01\r\u001b[K     |██████████████████████▍         | 2.8 MB 9.3 MB/s eta 0:00:01\r\u001b[K     |██████████████████████▍         | 2.8 MB 9.3 MB/s eta 0:00:01\r\u001b[K     |██████████████████████▌         | 2.8 MB 9.3 MB/s eta 0:00:01\r\u001b[K     |██████████████████████▋         | 2.8 MB 9.3 MB/s eta 0:00:01\r\u001b[K     |██████████████████████▊         | 2.8 MB 9.3 MB/s eta 0:00:01\r\u001b[K     |██████████████████████▊         | 2.8 MB 9.3 MB/s eta 0:00:01\r\u001b[K     |██████████████████████▉         | 2.8 MB 9.3 MB/s eta 0:00:01\r\u001b[K     |███████████████████████         | 2.8 MB 9.3 MB/s eta 0:00:01\r\u001b[K     |███████████████████████         | 2.8 MB 9.3 MB/s eta 0:00:01\r\u001b[K     |███████████████████████         | 2.9 MB 9.3 MB/s eta 0:00:01\r\u001b[K     |███████████████████████▏        | 2.9 MB 9.3 MB/s eta 0:00:01\r\u001b[K     |███████████████████████▎        | 2.9 MB 9.3 MB/s eta 0:00:01\r\u001b[K     |███████████████████████▍        | 2.9 MB 9.3 MB/s eta 0:00:01\r\u001b[K     |███████████████████████▍        | 2.9 MB 9.3 MB/s eta 0:00:01\r\u001b[K     |███████████████████████▌        | 2.9 MB 9.3 MB/s eta 0:00:01\r\u001b[K     |███████████████████████▋        | 2.9 MB 9.3 MB/s eta 0:00:01\r\u001b[K     |███████████████████████▊        | 2.9 MB 9.3 MB/s eta 0:00:01\r\u001b[K     |███████████████████████▊        | 2.9 MB 9.3 MB/s eta 0:00:01\r\u001b[K     |███████████████████████▉        | 2.9 MB 9.3 MB/s eta 0:00:01\r\u001b[K     |████████████████████████        | 3.0 MB 9.3 MB/s eta 0:00:01\r\u001b[K     |████████████████████████        | 3.0 MB 9.3 MB/s eta 0:00:01\r\u001b[K     |████████████████████████        | 3.0 MB 9.3 MB/s eta 0:00:01\r\u001b[K     |████████████████████████▏       | 3.0 MB 9.3 MB/s eta 0:00:01\r\u001b[K     |████████████████████████▎       | 3.0 MB 9.3 MB/s eta 0:00:01\r\u001b[K     |████████████████████████▍       | 3.0 MB 9.3 MB/s eta 0:00:01\r\u001b[K     |████████████████████████▍       | 3.0 MB 9.3 MB/s eta 0:00:01\r\u001b[K     |████████████████████████▌       | 3.0 MB 9.3 MB/s eta 0:00:01\r\u001b[K     |████████████████████████▋       | 3.0 MB 9.3 MB/s eta 0:00:01\r\u001b[K     |████████████████████████▊       | 3.1 MB 9.3 MB/s eta 0:00:01\r\u001b[K     |████████████████████████▊       | 3.1 MB 9.3 MB/s eta 0:00:01\r\u001b[K     |████████████████████████▉       | 3.1 MB 9.3 MB/s eta 0:00:01\r\u001b[K     |█████████████████████████       | 3.1 MB 9.3 MB/s eta 0:00:01\r\u001b[K     |█████████████████████████       | 3.1 MB 9.3 MB/s eta 0:00:01\r\u001b[K     |█████████████████████████       | 3.1 MB 9.3 MB/s eta 0:00:01\r\u001b[K     |█████████████████████████▏      | 3.1 MB 9.3 MB/s eta 0:00:01\r\u001b[K     |█████████████████████████▎      | 3.1 MB 9.3 MB/s eta 0:00:01\r\u001b[K     |█████████████████████████▍      | 3.1 MB 9.3 MB/s eta 0:00:01\r\u001b[K     |█████████████████████████▍      | 3.1 MB 9.3 MB/s eta 0:00:01\r\u001b[K     |█████████████████████████▌      | 3.2 MB 9.3 MB/s eta 0:00:01\r\u001b[K     |█████████████████████████▋      | 3.2 MB 9.3 MB/s eta 0:00:01\r\u001b[K     |█████████████████████████▋      | 3.2 MB 9.3 MB/s eta 0:00:01\r\u001b[K     |█████████████████████████▊      | 3.2 MB 9.3 MB/s eta 0:00:01\r\u001b[K     |█████████████████████████▉      | 3.2 MB 9.3 MB/s eta 0:00:01\r\u001b[K     |██████████████████████████      | 3.2 MB 9.3 MB/s eta 0:00:01\r\u001b[K     |██████████████████████████      | 3.2 MB 9.3 MB/s eta 0:00:01\r\u001b[K     |██████████████████████████      | 3.2 MB 9.3 MB/s eta 0:00:01\r\u001b[K     |██████████████████████████▏     | 3.2 MB 9.3 MB/s eta 0:00:01\r\u001b[K     |██████████████████████████▎     | 3.2 MB 9.3 MB/s eta 0:00:01\r\u001b[K     |██████████████████████████▎     | 3.3 MB 9.3 MB/s eta 0:00:01\r\u001b[K     |██████████████████████████▍     | 3.3 MB 9.3 MB/s eta 0:00:01\r\u001b[K     |██████████████████████████▌     | 3.3 MB 9.3 MB/s eta 0:00:01\r\u001b[K     |██████████████████████████▋     | 3.3 MB 9.3 MB/s eta 0:00:01\r\u001b[K     |██████████████████████████▋     | 3.3 MB 9.3 MB/s eta 0:00:01\r\u001b[K     |██████████████████████████▊     | 3.3 MB 9.3 MB/s eta 0:00:01\r\u001b[K     |██████████████████████████▉     | 3.3 MB 9.3 MB/s eta 0:00:01\r\u001b[K     |███████████████████████████     | 3.3 MB 9.3 MB/s eta 0:00:01\r\u001b[K     |███████████████████████████     | 3.3 MB 9.3 MB/s eta 0:00:01\r\u001b[K     |███████████████████████████     | 3.3 MB 9.3 MB/s eta 0:00:01\r\u001b[K     |███████████████████████████▏    | 3.4 MB 9.3 MB/s eta 0:00:01\r\u001b[K     |███████████████████████████▎    | 3.4 MB 9.3 MB/s eta 0:00:01\r\u001b[K     |███████████████████████████▎    | 3.4 MB 9.3 MB/s eta 0:00:01\r\u001b[K     |███████████████████████████▍    | 3.4 MB 9.3 MB/s eta 0:00:01\r\u001b[K     |███████████████████████████▌    | 3.4 MB 9.3 MB/s eta 0:00:01\r\u001b[K     |███████████████████████████▋    | 3.4 MB 9.3 MB/s eta 0:00:01\r\u001b[K     |███████████████████████████▋    | 3.4 MB 9.3 MB/s eta 0:00:01\r\u001b[K     |███████████████████████████▊    | 3.4 MB 9.3 MB/s eta 0:00:01\r\u001b[K     |███████████████████████████▉    | 3.4 MB 9.3 MB/s eta 0:00:01\r\u001b[K     |████████████████████████████    | 3.5 MB 9.3 MB/s eta 0:00:01\r\u001b[K     |████████████████████████████    | 3.5 MB 9.3 MB/s eta 0:00:01\r\u001b[K     |████████████████████████████    | 3.5 MB 9.3 MB/s eta 0:00:01\r\u001b[K     |████████████████████████████▏   | 3.5 MB 9.3 MB/s eta 0:00:01\r\u001b[K     |████████████████████████████▎   | 3.5 MB 9.3 MB/s eta 0:00:01\r\u001b[K     |████████████████████████████▎   | 3.5 MB 9.3 MB/s eta 0:00:01\r\u001b[K     |████████████████████████████▍   | 3.5 MB 9.3 MB/s eta 0:00:01\r\u001b[K     |████████████████████████████▌   | 3.5 MB 9.3 MB/s eta 0:00:01\r\u001b[K     |████████████████████████████▋   | 3.5 MB 9.3 MB/s eta 0:00:01\r\u001b[K     |████████████████████████████▋   | 3.5 MB 9.3 MB/s eta 0:00:01\r\u001b[K     |████████████████████████████▊   | 3.6 MB 9.3 MB/s eta 0:00:01\r\u001b[K     |████████████████████████████▉   | 3.6 MB 9.3 MB/s eta 0:00:01\r\u001b[K     |█████████████████████████████   | 3.6 MB 9.3 MB/s eta 0:00:01\r\u001b[K     |█████████████████████████████   | 3.6 MB 9.3 MB/s eta 0:00:01\r\u001b[K     |█████████████████████████████   | 3.6 MB 9.3 MB/s eta 0:00:01\r\u001b[K     |█████████████████████████████▏  | 3.6 MB 9.3 MB/s eta 0:00:01\r\u001b[K     |█████████████████████████████▎  | 3.6 MB 9.3 MB/s eta 0:00:01\r\u001b[K     |█████████████████████████████▎  | 3.6 MB 9.3 MB/s eta 0:00:01\r\u001b[K     |█████████████████████████████▍  | 3.6 MB 9.3 MB/s eta 0:00:01\r\u001b[K     |█████████████████████████████▌  | 3.6 MB 9.3 MB/s eta 0:00:01\r\u001b[K     |█████████████████████████████▋  | 3.7 MB 9.3 MB/s eta 0:00:01\r\u001b[K     |█████████████████████████████▋  | 3.7 MB 9.3 MB/s eta 0:00:01\r\u001b[K     |█████████████████████████████▊  | 3.7 MB 9.3 MB/s eta 0:00:01\r\u001b[K     |█████████████████████████████▉  | 3.7 MB 9.3 MB/s eta 0:00:01\r\u001b[K     |█████████████████████████████▉  | 3.7 MB 9.3 MB/s eta 0:00:01\r\u001b[K     |██████████████████████████████  | 3.7 MB 9.3 MB/s eta 0:00:01\r\u001b[K     |██████████████████████████████  | 3.7 MB 9.3 MB/s eta 0:00:01\r\u001b[K     |██████████████████████████████▏ | 3.7 MB 9.3 MB/s eta 0:00:01\r\u001b[K     |██████████████████████████████▏ | 3.7 MB 9.3 MB/s eta 0:00:01\r\u001b[K     |██████████████████████████████▎ | 3.7 MB 9.3 MB/s eta 0:00:01\r\u001b[K     |██████████████████████████████▍ | 3.8 MB 9.3 MB/s eta 0:00:01\r\u001b[K     |██████████████████████████████▌ | 3.8 MB 9.3 MB/s eta 0:00:01\r\u001b[K     |██████████████████████████████▌ | 3.8 MB 9.3 MB/s eta 0:00:01\r\u001b[K     |██████████████████████████████▋ | 3.8 MB 9.3 MB/s eta 0:00:01\r\u001b[K     |██████████████████████████████▊ | 3.8 MB 9.3 MB/s eta 0:00:01\r\u001b[K     |██████████████████████████████▉ | 3.8 MB 9.3 MB/s eta 0:00:01\r\u001b[K     |██████████████████████████████▉ | 3.8 MB 9.3 MB/s eta 0:00:01\r\u001b[K     |███████████████████████████████ | 3.8 MB 9.3 MB/s eta 0:00:01\r\u001b[K     |███████████████████████████████ | 3.8 MB 9.3 MB/s eta 0:00:01\r\u001b[K     |███████████████████████████████▏| 3.9 MB 9.3 MB/s eta 0:00:01\r\u001b[K     |███████████████████████████████▏| 3.9 MB 9.3 MB/s eta 0:00:01\r\u001b[K     |███████████████████████████████▎| 3.9 MB 9.3 MB/s eta 0:00:01\r\u001b[K     |███████████████████████████████▍| 3.9 MB 9.3 MB/s eta 0:00:01\r\u001b[K     |███████████████████████████████▌| 3.9 MB 9.3 MB/s eta 0:00:01\r\u001b[K     |███████████████████████████████▌| 3.9 MB 9.3 MB/s eta 0:00:01\r\u001b[K     |███████████████████████████████▋| 3.9 MB 9.3 MB/s eta 0:00:01\r\u001b[K     |███████████████████████████████▊| 3.9 MB 9.3 MB/s eta 0:00:01\r\u001b[K     |███████████████████████████████▉| 3.9 MB 9.3 MB/s eta 0:00:01\r\u001b[K     |███████████████████████████████▉| 3.9 MB 9.3 MB/s eta 0:00:01\r\u001b[K     |████████████████████████████████| 4.0 MB 9.3 MB/s eta 0:00:01\r\u001b[K     |████████████████████████████████| 4.0 MB 9.3 MB/s \n",
            "\u001b[?25hRequirement already satisfied: tqdm in /usr/local/lib/python3.7/dist-packages (from tensorflow-datasets==4.4.0) (4.62.3)\n",
            "Requirement already satisfied: protobuf>=3.12.2 in /usr/local/lib/python3.7/dist-packages (from tensorflow-datasets==4.4.0) (3.17.3)\n",
            "Requirement already satisfied: attrs>=18.1.0 in /usr/local/lib/python3.7/dist-packages (from tensorflow-datasets==4.4.0) (21.2.0)\n",
            "Requirement already satisfied: six in /usr/local/lib/python3.7/dist-packages (from tensorflow-datasets==4.4.0) (1.15.0)\n",
            "Requirement already satisfied: dill in /usr/local/lib/python3.7/dist-packages (from tensorflow-datasets==4.4.0) (0.3.4)\n",
            "Requirement already satisfied: tensorflow-metadata in /usr/local/lib/python3.7/dist-packages (from tensorflow-datasets==4.4.0) (1.2.0)\n",
            "Requirement already satisfied: requests>=2.19.0 in /usr/local/lib/python3.7/dist-packages (from tensorflow-datasets==4.4.0) (2.23.0)\n",
            "Requirement already satisfied: numpy in /usr/local/lib/python3.7/dist-packages (from tensorflow-datasets==4.4.0) (1.19.5)\n",
            "Requirement already satisfied: absl-py in /usr/local/lib/python3.7/dist-packages (from tensorflow-datasets==4.4.0) (0.12.0)\n",
            "Requirement already satisfied: promise in /usr/local/lib/python3.7/dist-packages (from tensorflow-datasets==4.4.0) (2.3)\n",
            "Requirement already satisfied: termcolor in /usr/local/lib/python3.7/dist-packages (from tensorflow-datasets==4.4.0) (1.1.0)\n",
            "Requirement already satisfied: typing-extensions in /usr/local/lib/python3.7/dist-packages (from tensorflow-datasets==4.4.0) (3.7.4.3)\n",
            "Requirement already satisfied: future in /usr/local/lib/python3.7/dist-packages (from tensorflow-datasets==4.4.0) (0.16.0)\n",
            "Requirement already satisfied: importlib-resources in /usr/local/lib/python3.7/dist-packages (from tensorflow-datasets==4.4.0) (5.2.2)\n",
            "Requirement already satisfied: urllib3!=1.25.0,!=1.25.1,<1.26,>=1.21.1 in /usr/local/lib/python3.7/dist-packages (from requests>=2.19.0->tensorflow-datasets==4.4.0) (1.24.3)\n",
            "Requirement already satisfied: certifi>=2017.4.17 in /usr/local/lib/python3.7/dist-packages (from requests>=2.19.0->tensorflow-datasets==4.4.0) (2021.5.30)\n",
            "Requirement already satisfied: idna<3,>=2.5 in /usr/local/lib/python3.7/dist-packages (from requests>=2.19.0->tensorflow-datasets==4.4.0) (2.10)\n",
            "Requirement already satisfied: chardet<4,>=3.0.2 in /usr/local/lib/python3.7/dist-packages (from requests>=2.19.0->tensorflow-datasets==4.4.0) (3.0.4)\n",
            "Requirement already satisfied: zipp>=3.1.0 in /usr/local/lib/python3.7/dist-packages (from importlib-resources->tensorflow-datasets==4.4.0) (3.6.0)\n",
            "Requirement already satisfied: googleapis-common-protos<2,>=1.52.0 in /usr/local/lib/python3.7/dist-packages (from tensorflow-metadata->tensorflow-datasets==4.4.0) (1.53.0)\n",
            "Installing collected packages: tensorflow-datasets\n",
            "  Attempting uninstall: tensorflow-datasets\n",
            "    Found existing installation: tensorflow-datasets 4.0.1\n",
            "    Uninstalling tensorflow-datasets-4.0.1:\n",
            "      Successfully uninstalled tensorflow-datasets-4.0.1\n",
            "Successfully installed tensorflow-datasets-4.4.0\n"
          ]
        }
      ]
    },
    {
      "cell_type": "code",
      "metadata": {
        "colab": {
          "base_uri": "https://localhost:8080/"
        },
        "id": "guwINne21PkI",
        "outputId": "3def36ec-2aa0-40d8-eeff-a7338a0870ee"
      },
      "source": [
        "# mount Drive\n",
        "from google.colab import drive\n",
        "drive.mount('/content/drive')"
      ],
      "execution_count": null,
      "outputs": [
        {
          "output_type": "stream",
          "name": "stdout",
          "text": [
            "Mounted at /content/drive\n"
          ]
        }
      ]
    },
    {
      "cell_type": "code",
      "metadata": {
        "id": "-_sukMbWUkaE"
      },
      "source": [
        "# S3 bucket\n",
        "S3BUCKET='s3://semisupercv-fourthbrain-july/xray_orig.zip'\n",
        "MODELDIR = 's3://semisupercv-fourthbrain-july/'"
      ],
      "execution_count": null,
      "outputs": []
    },
    {
      "cell_type": "code",
      "metadata": {
        "id": "qWQcOpSV3Nfi"
      },
      "source": [
        "# unzip data to root/tensorflow_datasets\n",
        "!unzip -qq {S3BUCKET} -d /root/tensorflow_datasets"
      ],
      "execution_count": null,
      "outputs": []
    },
    {
      "cell_type": "code",
      "metadata": {
        "id": "sAtKABLI3pbv"
      },
      "source": [
        "# Dont need to do this in Sagemaker, already starting out in Github folder\n",
        "# clone repository to contents/TeamSemiSuperCV\n",
        "#!git clone https://github.com/TeamSemiSuperCV/semi-super.git /contents/TeamSemiSuperCV"
      ],
      "execution_count": null,
      "outputs": []
    },
    {
      "cell_type": "code",
      "metadata": {
        "colab": {
          "base_uri": "https://localhost:8080/"
        },
        "id": "rFMWpnA74J87",
        "outputId": "9de6150f-6430-4c3d-9b56-0174e99d42fa"
      },
      "source": [
        "# test dating loading\n",
        "import tensorflow_datasets as tfds\n",
        "print(tfds.__version__)\n",
        "# tfds.load('tfds')\n",
        "tfds.load('xray_orig')"
      ],
      "execution_count": null,
      "outputs": [
        {
          "output_type": "stream",
          "name": "stdout",
          "text": [
            "4.4.0\n"
          ]
        },
        {
          "output_type": "execute_result",
          "data": {
            "text/plain": [
              "{'test': <PrefetchDataset shapes: {image: (None, None, 3), label: ()}, types: {image: tf.uint8, label: tf.int64}>,\n",
              " 'train': <PrefetchDataset shapes: {image: (None, None, 3), label: ()}, types: {image: tf.uint8, label: tf.int64}>,\n",
              " 'train_10pc': <PrefetchDataset shapes: {image: (None, None, 3), label: ()}, types: {image: tf.uint8, label: tf.int64}>,\n",
              " 'train_1pc': <PrefetchDataset shapes: {image: (None, None, 3), label: ()}, types: {image: tf.uint8, label: tf.int64}>,\n",
              " 'train_2pc': <PrefetchDataset shapes: {image: (None, None, 3), label: ()}, types: {image: tf.uint8, label: tf.int64}>,\n",
              " 'train_5pc': <PrefetchDataset shapes: {image: (None, None, 3), label: ()}, types: {image: tf.uint8, label: tf.int64}>}"
            ]
          },
          "metadata": {},
          "execution_count": 8
        }
      ]
    },
    {
      "cell_type": "code",
      "metadata": {
        "id": "8-VRZ406378d"
      },
      "source": [
        "# change dir to TeamSemiSuperCV (repo code)\n",
        "import os\n",
        "#os.chdir('/contents/TeamSemiSuperCV')\n",
        "os.environ['TF_CPP_MIN_LOG_LEVEL'] = '2'\n",
        "!cd .. #move up a directory to main folder"
      ],
      "execution_count": null,
      "outputs": []
    },
    {
      "cell_type": "code",
      "metadata": {
        "id": "XQo2nxtcRWzp"
      },
      "source": [
        "class simclrCommand():\n",
        "  def __init__(self, model_dir, model_folder, params={}):\n",
        "    #default params\n",
        "    self.params = {'train_mode':\"pretrain\", \n",
        "          \"mode\":\"train_then_eval\",\n",
        "          \"train_batch_size\":64, \n",
        "          \"train_epochs\":100 ,\n",
        "          \"learning_rate\":1.0, \n",
        "          'weight_decay':1e-4, \n",
        "          \"temperature\":0.5, \n",
        "          \"dataset\":\"xray\", \n",
        "          \"image_size\":244, \n",
        "          \"eval_split\":\"test\", \n",
        "          \"resnet_depth\":50, \n",
        "          \"use_blur\":\"False\", \n",
        "          \"color_jitter_strength\":\"0.5\", \n",
        "          'model_dir': model_dir+model_folder ,\n",
        "          \"use_tpu\":\"False\"}\n",
        "    # add in or change params\n",
        "    if len(params) > 0:\n",
        "      for k,v in params.items():\n",
        "        self.params[k]=v\n",
        "  def compile_command(self):\n",
        "    simclr_command = ['python run.py']\n",
        "    for k,v in self.params.items():\n",
        "      simclr_command.append(f'--{k}={v}')\n",
        "    return (\" \").join(simclr_command)\n",
        "  def run_command(self):\n",
        "    !{self.compile_command()}\n"
      ],
      "execution_count": null,
      "outputs": []
    },
    {
      "cell_type": "markdown",
      "metadata": {
        "id": "mdZeR6w1V4tV"
      },
      "source": [
        "# Parameters: sk_ratio=0.0625, lr1, "
      ]
    },
    {
      "cell_type": "code",
      "metadata": {
        "id": "yna5381ixN96"
      },
      "source": [
        "model_folder = 'xray_orig_2x_skTrue_lr07_wd3_temp25'\n",
        "params = {\"train_batch_size\":64, \n",
        "          \"width_multiplier\":1 , \n",
        "          \"sk_ratio\":0.0625, \n",
        "          'dataset':\"xray_orig\",\n",
        "          \"learning_rate\":0.7, \n",
        "          'weight_decay':1e-3, \n",
        "          \"temperature\":0.25} \n",
        "slimsk2 = simclrCommand(model_dir, model_folder2, params2)\n",
        "slimsk2.run_command()"
      ],
      "execution_count": null,
      "outputs": []
    }
  ]
}