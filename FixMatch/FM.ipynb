{
 "cells": [
  {
   "cell_type": "markdown",
   "metadata": {
    "id": "iqAFmqNqgL7q"
   },
   "source": [
    "# Run FixMatch Semi-Supervised Learning on XRay_Reborn Dataset"
   ]
  },
  {
   "cell_type": "code",
   "execution_count": null,
   "metadata": {
    "colab": {
     "base_uri": "https://localhost:8080/"
    },
    "executionInfo": {
     "elapsed": 10,
     "status": "ok",
     "timestamp": 1648705015966,
     "user": {
      "displayName": "Wing Poon",
      "userId": "05678926181994855364"
     },
     "user_tz": 420
    },
    "id": "tM9LsVnHeYoG",
    "outputId": "4ea66ed7-c991-4d2a-c20a-8638231e39b5"
   },
   "outputs": [],
   "source": [
    "!nvidia-smi -L"
   ]
  },
  {
   "cell_type": "code",
   "execution_count": null,
   "metadata": {
    "executionInfo": {
     "elapsed": 1662,
     "status": "ok",
     "timestamp": 1648705019402,
     "user": {
      "displayName": "Wing Poon",
      "userId": "05678926181994855364"
     },
     "user_tz": 420
    },
    "id": "YYLGZjv2TT8S"
   },
   "outputs": [],
   "source": [
    "!unzip -qq /content/drive/MyDrive/TeamSemiSuperCV/Wing/fm.zip"
   ]
  },
  {
   "cell_type": "code",
   "execution_count": null,
   "metadata": {
    "executionInfo": {
     "elapsed": 18553,
     "status": "ok",
     "timestamp": 1648705042171,
     "user": {
      "displayName": "Wing Poon",
      "userId": "05678926181994855364"
     },
     "user_tz": 420
    },
    "id": "aL7Gf-EWTqhC"
   },
   "outputs": [],
   "source": [
    "!unzip -qq /content/drive/MyDrive/TeamSemiSuperCV/Wing/xray_reborn.zip -d /root/tensorflow_datasets/ && \\\n",
    "mv /root/tensorflow_datasets/xray_reborn /root/tensorflow_datasets/xray"
   ]
  },
  {
   "cell_type": "code",
   "execution_count": null,
   "metadata": {
    "colab": {
     "base_uri": "https://localhost:8080/"
    },
    "executionInfo": {
     "elapsed": 7294,
     "status": "ok",
     "timestamp": 1648705094692,
     "user": {
      "displayName": "Wing Poon",
      "userId": "05678926181994855364"
     },
     "user_tz": 420
    },
    "id": "0B6dLQdUUAYl",
    "outputId": "3a08ec27-4b16-4226-da37-b722e3577f79"
   },
   "outputs": [],
   "source": [
    "!pip install -q tensorflow-datasets==4.4.0"
   ]
  },
  {
   "cell_type": "markdown",
   "metadata": {
    "id": "W9Rcy_ligfpz"
   },
   "source": [
    "The number of labels used is specified by the `LABELS=250` line in `do.sh` . The number of training steps is specified by the line `KIMG=1024` ."
   ]
  },
  {
   "cell_type": "code",
   "execution_count": null,
   "metadata": {
    "colab": {
     "base_uri": "https://localhost:8080/",
     "height": 1000
    },
    "executionInfo": {
     "elapsed": 691643,
     "status": "error",
     "timestamp": 1648705833666,
     "user": {
      "displayName": "Wing Poon",
      "userId": "05678926181994855364"
     },
     "user_tz": 420
    },
    "id": "13qUSSKWWlGj",
    "outputId": "a5d798fe-e065-490b-da8d-7d1c190a0829"
   },
   "outputs": [],
   "source": [
    "!bash do.sh create"
   ]
  },
  {
   "cell_type": "markdown",
   "metadata": {
    "id": "ljGPHQute8iI"
   },
   "source": [
    "The trained model can be found in `TRAIN_DIR=\"./experiments\"`"
   ]
  },
  {
   "cell_type": "code",
   "execution_count": null,
   "metadata": {},
   "outputs": [],
   "source": []
  }
 ],
 "metadata": {
  "accelerator": "GPU",
  "colab": {
   "authorship_tag": "ABX9TyOZb5WUrQhQCMKMJHAl28p5",
   "collapsed_sections": [],
   "mount_file_id": "12m8La8C75WnaTTQhWFKE6tNCdsKioVis",
   "name": "FM.ipynb",
   "provenance": []
  },
  "kernelspec": {
   "display_name": "Python 3 (ipykernel)",
   "language": "python",
   "name": "python3"
  },
  "language_info": {
   "codemirror_mode": {
    "name": "ipython",
    "version": 3
   },
   "file_extension": ".py",
   "mimetype": "text/x-python",
   "name": "python",
   "nbconvert_exporter": "python",
   "pygments_lexer": "ipython3",
   "version": "3.9.10"
  }
 },
 "nbformat": 4,
 "nbformat_minor": 1
}
