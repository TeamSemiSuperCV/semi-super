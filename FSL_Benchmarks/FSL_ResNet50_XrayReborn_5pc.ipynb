{
 "cells": [
  {
   "cell_type": "markdown",
   "metadata": {
    "id": "da6eb011"
   },
   "source": [
    "# Fully-Supervised Learning using ResNet50 on 5% of XRay_Reborn Dataset"
   ]
  },
  {
   "cell_type": "markdown",
   "metadata": {},
   "source": [
    "Train on only 5% of the labelled training data in order to compare Fully-Supervised vs Semi-Supervised approaches."
   ]
  },
  {
   "cell_type": "code",
   "execution_count": null,
   "metadata": {
    "colab": {
     "base_uri": "https://localhost:8080/"
    },
    "executionInfo": {
     "elapsed": 3169,
     "status": "ok",
     "timestamp": 1637267934188,
     "user": {
      "displayName": "Sim Clr",
      "photoUrl": "https://lh3.googleusercontent.com/a/default-user=s64",
      "userId": "09230613867822379570"
     },
     "user_tz": 480
    },
    "id": "6131955e",
    "outputId": "3784b957-3a8e-4899-e01f-901a24e29b89"
   },
   "outputs": [],
   "source": [
    "%config InlineBackend.figure_format='retina'\n",
    "COLAB = 'google.colab' in str(get_ipython())\n",
    "import tensorflow as tf\n",
    "import os\n",
    "if COLAB:\n",
    "    !nvidia-smi -L\n",
    "    from google.colab import drive\n",
    "    drive.mount('/content/drive')\n",
    "    ![ ! -f \"pip_installed\" ] && pip install -q tensorflow-datasets==4.4.0 && touch pip_installed\n",
    "    ![ ! -d \"/root/tensorflow_datasets\" ] &&  unzip -qq /content/drive/MyDrive/TeamSemiSuperCV/Wing/xray_reborn.zip -d /root/tensorflow_datasets\n",
    "else:\n",
    "    os.environ['TF_CPP_MIN_LOG_LEVEL'] = '2'\n",
    "    os.environ[\"CUDA_VISIBLE_DEVICES\"] = '1'\n",
    "    print(tf.config.list_physical_devices('GPU'))"
   ]
  },
  {
   "cell_type": "code",
   "execution_count": 2,
   "metadata": {
    "executionInfo": {
     "elapsed": 5,
     "status": "ok",
     "timestamp": 1637267934188,
     "user": {
      "displayName": "Sim Clr",
      "photoUrl": "https://lh3.googleusercontent.com/a/default-user=s64",
      "userId": "09230613867822379570"
     },
     "user_tz": 480
    },
    "id": "32cc774b"
   },
   "outputs": [],
   "source": [
    "import numpy as np\n",
    "import matplotlib.pyplot as plt\n",
    "import tensorflow_datasets as tfds\n",
    "from collections import Counter\n",
    "from tensorflow.keras.models import Sequential\n",
    "from tensorflow.keras.layers import *\n",
    "from tensorflow.keras.optimizers import Adam\n",
    "from tensorflow.keras.losses import BinaryCrossentropy\n",
    "from tensorflow.keras.regularizers import l2\n",
    "from tensorflow.keras.metrics import Precision, Recall\n",
    "from tensorflow.keras.models import Model\n",
    "from tensorflow.keras.applications import ResNet50"
   ]
  },
  {
   "cell_type": "code",
   "execution_count": 3,
   "metadata": {
    "executionInfo": {
     "elapsed": 5,
     "status": "ok",
     "timestamp": 1637267934189,
     "user": {
      "displayName": "Sim Clr",
      "photoUrl": "https://lh3.googleusercontent.com/a/default-user=s64",
      "userId": "09230613867822379570"
     },
     "user_tz": 480
    },
    "id": "f41b1bab"
   },
   "outputs": [],
   "source": [
    "RAND_SEED = 42\n",
    "BATCH_SIZE = 128\n",
    "IMG_SIZE = (256, 256, 3)\n",
    "CLASS_WEIGHTS = {0: 0.6, 1: 0.4}\n",
    "SHUFFLE_SIZE = BATCH_SIZE * 10"
   ]
  },
  {
   "cell_type": "code",
   "execution_count": null,
   "metadata": {
    "colab": {
     "base_uri": "https://localhost:8080/"
    },
    "executionInfo": {
     "elapsed": 633,
     "status": "ok",
     "timestamp": 1637267934817,
     "user": {
      "displayName": "Sim Clr",
      "photoUrl": "https://lh3.googleusercontent.com/a/default-user=s64",
      "userId": "09230613867822379570"
     },
     "user_tz": 480
    },
    "id": "92298f03",
    "outputId": "5158e8a2-bcbd-4c59-d52d-e4b8812ba401"
   },
   "outputs": [],
   "source": [
    "ds = tfds.load('xray_reborn')\n",
    "ds_train = ds['train_5pc']  # Train on only 5% (for comparing against SSL)\n",
    "ds_valid = ds['validation']\n",
    "ds_test = ds['test']\n",
    "ds_train.element_spec, ds_valid.element_spec, ds_test.element_spec"
   ]
  },
  {
   "cell_type": "code",
   "execution_count": 5,
   "metadata": {
    "colab": {
     "base_uri": "https://localhost:8080/"
    },
    "executionInfo": {
     "elapsed": 8,
     "status": "ok",
     "timestamp": 1637267934817,
     "user": {
      "displayName": "Sim Clr",
      "photoUrl": "https://lh3.googleusercontent.com/a/default-user=s64",
      "userId": "09230613867822379570"
     },
     "user_tz": 480
    },
    "id": "a152eefe",
    "outputId": "74a6a432-0e1c-4129-9966-68a9b1f5a371"
   },
   "outputs": [
    {
     "data": {
      "text/plain": [
       "(261, 524, 623)"
      ]
     },
     "execution_count": 5,
     "metadata": {},
     "output_type": "execute_result"
    }
   ],
   "source": [
    "len(ds_train), len(ds_valid), len(ds_test)"
   ]
  },
  {
   "cell_type": "code",
   "execution_count": 6,
   "metadata": {
    "colab": {
     "base_uri": "https://localhost:8080/",
     "height": 35
    },
    "executionInfo": {
     "elapsed": 4063,
     "status": "ok",
     "timestamp": 1637267938878,
     "user": {
      "displayName": "Sim Clr",
      "photoUrl": "https://lh3.googleusercontent.com/a/default-user=s64",
      "userId": "09230613867822379570"
     },
     "user_tz": 480
    },
    "id": "7d729856",
    "outputId": "25f2d19a-fafb-4480-e439-0cd65185ddb3"
   },
   "outputs": [
    {
     "data": {
      "application/vnd.google.colaboratory.intrinsic+json": {
       "type": "string"
      },
      "text/plain": [
       "\"Train: Counter({'1': 198, '0': 63}), Valid: Counter({'1': 384, '0': 140}), Test: Counter({'1': 451, '0': 172})\""
      ]
     },
     "execution_count": 6,
     "metadata": {},
     "output_type": "execute_result"
    }
   ],
   "source": [
    "cnt_train, cnt_valid, cnt_test = Counter(), Counter(), Counter()\n",
    "for ex in ds_train: cnt_train.update(str(ex['label'].numpy()))\n",
    "for ex in ds_valid: cnt_valid.update(str(ex['label'].numpy()))\n",
    "for ex in ds_test: cnt_test.update(str(ex['label'].numpy()))\n",
    "f'Train: {cnt_train}, Valid: {cnt_valid}, Test: {cnt_test}'"
   ]
  },
  {
   "cell_type": "code",
   "execution_count": null,
   "metadata": {
    "colab": {
     "base_uri": "https://localhost:8080/"
    },
    "executionInfo": {
     "elapsed": 16,
     "status": "ok",
     "timestamp": 1637267938878,
     "user": {
      "displayName": "Sim Clr",
      "photoUrl": "https://lh3.googleusercontent.com/a/default-user=s64",
      "userId": "09230613867822379570"
     },
     "user_tz": 480
    },
    "id": "e2dfe225",
    "outputId": "e0070a12-2dc7-4de6-83be-bb6fe8d1ebd5"
   },
   "outputs": [],
   "source": [
    "ds_train_xy = ds_train.map(lambda d: (d['image'], d['label']))\n",
    "ds_valid_xy = ds_valid.map(lambda d: (d['image'], d['label']))\n",
    "ds_test_xy = ds_test.map(lambda d: (d['image'], d['label']))\n",
    "ds_train_xy.element_spec, ds_valid_xy.element_spec, ds_test_xy.element_spec"
   ]
  },
  {
   "cell_type": "code",
   "execution_count": 8,
   "metadata": {
    "executionInfo": {
     "elapsed": 13,
     "status": "ok",
     "timestamp": 1637267938879,
     "user": {
      "displayName": "Sim Clr",
      "photoUrl": "https://lh3.googleusercontent.com/a/default-user=s64",
      "userId": "09230613867822379570"
     },
     "user_tz": 480
    },
    "id": "43d1a896"
   },
   "outputs": [],
   "source": [
    "def img_preprocess(imgs):\n",
    "    imgs = tf.image.resize(imgs, IMG_SIZE[:2], method='bicubic')\n",
    "    return imgs"
   ]
  },
  {
   "cell_type": "code",
   "execution_count": 9,
   "metadata": {
    "executionInfo": {
     "elapsed": 12,
     "status": "ok",
     "timestamp": 1637267938879,
     "user": {
      "displayName": "Sim Clr",
      "photoUrl": "https://lh3.googleusercontent.com/a/default-user=s64",
      "userId": "09230613867822379570"
     },
     "user_tz": 480
    },
    "id": "d69e47cd"
   },
   "outputs": [],
   "source": [
    "def model_preprocess(x):\n",
    "    x = Rescaling(1/255)(x)\n",
    "    x = RandomFlip(\"horizontal\")(x)\n",
    "    x = RandomTranslation(0.15, 0.15, fill_mode='constant', fill_value=0.0)(x)\n",
    "    x = RandomZoom(0.1, fill_mode='constant', fill_value=0.0)(x)\n",
    "    x = RandomRotation(0.1, fill_mode='constant', fill_value=0.0)(x)\n",
    "    x = RandomContrast(0.15)(x)\n",
    "    return x"
   ]
  },
  {
   "cell_type": "code",
   "execution_count": null,
   "metadata": {
    "colab": {
     "base_uri": "https://localhost:8080/"
    },
    "executionInfo": {
     "elapsed": 13,
     "status": "ok",
     "timestamp": 1637267938880,
     "user": {
      "displayName": "Sim Clr",
      "photoUrl": "https://lh3.googleusercontent.com/a/default-user=s64",
      "userId": "09230613867822379570"
     },
     "user_tz": 480
    },
    "id": "241150ab",
    "outputId": "ddf6a663-a2ea-4d8a-f1ac-6dc98cd81603"
   },
   "outputs": [],
   "source": [
    "ds_train_xy = ds_train_xy.prefetch(tf.data.AUTOTUNE)\n",
    "ds_train_xy = ds_train_xy.map(lambda x, y: (img_preprocess(x), y))\n",
    "ds_train_xy = ds_train_xy.shuffle(SHUFFLE_SIZE).batch(BATCH_SIZE).cache().prefetch(tf.data.AUTOTUNE)\n",
    "\n",
    "ds_valid_xy = ds_valid_xy.prefetch(tf.data.AUTOTUNE)\n",
    "ds_valid_xy = ds_valid_xy.map(lambda x, y: (img_preprocess(x), y))\n",
    "ds_valid_xy = ds_valid_xy.shuffle(SHUFFLE_SIZE).batch(BATCH_SIZE).cache().prefetch(tf.data.AUTOTUNE)\n",
    "\n",
    "ds_test_xy = ds_test_xy.prefetch(tf.data.AUTOTUNE)\n",
    "ds_test_xy = ds_test_xy.map(lambda x, y: (img_preprocess(x), y))\n",
    "ds_test_xy = ds_test_xy.shuffle(SHUFFLE_SIZE).batch(BATCH_SIZE).cache().prefetch(tf.data.AUTOTUNE)\n",
    "\n",
    "ds_train_xy.element_spec, ds_valid_xy.element_spec, ds_test_xy.element_spec"
   ]
  },
  {
   "cell_type": "code",
   "execution_count": 11,
   "metadata": {
    "executionInfo": {
     "elapsed": 7,
     "status": "ok",
     "timestamp": 1637267938880,
     "user": {
      "displayName": "Sim Clr",
      "photoUrl": "https://lh3.googleusercontent.com/a/default-user=s64",
      "userId": "09230613867822379570"
     },
     "user_tz": 480
    },
    "id": "98b85f92"
   },
   "outputs": [],
   "source": [
    "# This model uses ResNet50 as the backbone\n",
    "def make_model(input_shape):\n",
    "    initializer = 'glorot_uniform'\n",
    "    \n",
    "    base_model = ResNet50(include_top=False, pooling='max', weights=\"imagenet\",\n",
    "                          input_shape=input_shape)\n",
    "    base_model.trainable = False\n",
    "\n",
    "    inputs = Input(shape=input_shape)\n",
    "    x = model_preprocess(inputs)\n",
    "    x = base_model(x)\n",
    "    x = Dropout(0.4)(x)\n",
    "    x = BatchNormalization()(x)\n",
    "    x = Dense(64, activation='relu', kernel_initializer=initializer,\n",
    "              kernel_regularizer=l2(1e-4))(x)\n",
    "    x = Dropout(0.4)(x)\n",
    "    x = BatchNormalization()(x)\n",
    "    outputs = Dense(1, activation='sigmoid', kernel_initializer=initializer,\n",
    "                    kernel_regularizer=l2(1e-4))(x)\n",
    "    \n",
    "    model = Model(inputs=inputs, outputs=outputs)\n",
    "    return model"
   ]
  },
  {
   "cell_type": "code",
   "execution_count": 12,
   "metadata": {
    "executionInfo": {
     "elapsed": 8,
     "status": "ok",
     "timestamp": 1637267938881,
     "user": {
      "displayName": "Sim Clr",
      "photoUrl": "https://lh3.googleusercontent.com/a/default-user=s64",
      "userId": "09230613867822379570"
     },
     "user_tz": 480
    },
    "id": "553034d9"
   },
   "outputs": [],
   "source": [
    "from collections import defaultdict\n",
    "\n",
    "# Fit <model> using <optimizer> and <class_weight>\n",
    "# while accumulating histories\n",
    "def fit(learning_rate, epochs, reset_hist=False):\n",
    "    if reset_hist:\n",
    "        fit.history = defaultdict(lambda: [])\n",
    "    \n",
    "    optimizer.lr.assign(learning_rate)\n",
    "    history = model.fit(ds_train_xy, validation_data=ds_valid_xy,\n",
    "                        class_weight=CLASS_WEIGHTS, verbose=2,\n",
    "                        epochs=epochs)\n",
    "    for metric, values in history.history.items():\n",
    "        fit.history[metric].extend(values)\n",
    "    return history"
   ]
  },
  {
   "cell_type": "code",
   "execution_count": 13,
   "metadata": {
    "executionInfo": {
     "elapsed": 8,
     "status": "ok",
     "timestamp": 1637267938881,
     "user": {
      "displayName": "Sim Clr",
      "photoUrl": "https://lh3.googleusercontent.com/a/default-user=s64",
      "userId": "09230613867822379570"
     },
     "user_tz": 480
    },
    "id": "02baaee6"
   },
   "outputs": [],
   "source": [
    "# Plot Training-vs-Validation Metrics\n",
    "def plot_fit():\n",
    "    # first two log entries will be skipped to not skew y-scale\n",
    "    plt.figure(figsize=(12, 4))\n",
    "    ax = plt.subplot(1, 2, 1)\n",
    "    ax.set_xlabel('Epochs')\n",
    "    ax.set_title('Training Loss, Validation Loss');\n",
    "    ax.plot(fit.history['loss'][2:], label='Train')\n",
    "    ax.plot(fit.history['val_loss'][2:], label='Valid')\n",
    "    ax.set_ylim([0, 0.5])\n",
    "    ax.legend()\n",
    "    \n",
    "    ax = plt.subplot(1, 2, 2)\n",
    "    ax.set_xlabel('Epochs')\n",
    "    ax.set_title('Training Accuracy, Validation Accuracy');\n",
    "    ax.plot(fit.history['accuracy'][2:], label='Train')\n",
    "    ax.plot(fit.history['val_accuracy'][2:], label='Valid')\n",
    "    ax.set_ylim([0.7, 1.0])\n",
    "    ax.legend()"
   ]
  },
  {
   "cell_type": "code",
   "execution_count": 14,
   "metadata": {
    "colab": {
     "base_uri": "https://localhost:8080/"
    },
    "executionInfo": {
     "elapsed": 2305,
     "status": "ok",
     "timestamp": 1637267941179,
     "user": {
      "displayName": "Sim Clr",
      "photoUrl": "https://lh3.googleusercontent.com/a/default-user=s64",
      "userId": "09230613867822379570"
     },
     "user_tz": 480
    },
    "id": "382d07fb",
    "outputId": "a2beb243-82d4-4382-b4f0-8317765dd06a"
   },
   "outputs": [
    {
     "name": "stdout",
     "output_type": "stream",
     "text": [
      "Model: \"model\"\n",
      "_________________________________________________________________\n",
      " Layer (type)                Output Shape              Param #   \n",
      "=================================================================\n",
      " input_2 (InputLayer)        [(None, 256, 256, 3)]     0         \n",
      "                                                                 \n",
      " rescaling (Rescaling)       (None, 256, 256, 3)       0         \n",
      "                                                                 \n",
      " random_flip (RandomFlip)    (None, 256, 256, 3)       0         \n",
      "                                                                 \n",
      " random_translation (RandomT  (None, 256, 256, 3)      0         \n",
      " ranslation)                                                     \n",
      "                                                                 \n",
      " random_zoom (RandomZoom)    (None, 256, 256, 3)       0         \n",
      "                                                                 \n",
      " random_rotation (RandomRota  (None, 256, 256, 3)      0         \n",
      " tion)                                                           \n",
      "                                                                 \n",
      " random_contrast (RandomCont  (None, 256, 256, 3)      0         \n",
      " rast)                                                           \n",
      "                                                                 \n",
      " resnet50 (Functional)       (None, 2048)              23587712  \n",
      "                                                                 \n",
      " dropout (Dropout)           (None, 2048)              0         \n",
      "                                                                 \n",
      " batch_normalization (BatchN  (None, 2048)             8192      \n",
      " ormalization)                                                   \n",
      "                                                                 \n",
      " dense (Dense)               (None, 64)                131136    \n",
      "                                                                 \n",
      " dropout_1 (Dropout)         (None, 64)                0         \n",
      "                                                                 \n",
      " batch_normalization_1 (Batc  (None, 64)               256       \n",
      " hNormalization)                                                 \n",
      "                                                                 \n",
      " dense_1 (Dense)             (None, 1)                 65        \n",
      "                                                                 \n",
      "=================================================================\n",
      "Total params: 23,727,361\n",
      "Trainable params: 135,425\n",
      "Non-trainable params: 23,591,936\n",
      "_________________________________________________________________\n"
     ]
    }
   ],
   "source": [
    "tf.keras.backend.clear_session()\n",
    "\n",
    "model = make_model(IMG_SIZE)\n",
    "optimizer = Adam()\n",
    "model.compile(loss=BinaryCrossentropy(from_logits=False, label_smoothing=0.1),\n",
    "              optimizer=optimizer,\n",
    "              metrics=['accuracy'])\n",
    "model.summary()"
   ]
  },
  {
   "cell_type": "code",
   "execution_count": null,
   "metadata": {
    "colab": {
     "base_uri": "https://localhost:8080/"
    },
    "executionInfo": {
     "elapsed": 51814,
     "status": "ok",
     "timestamp": 1637267992987,
     "user": {
      "displayName": "Sim Clr",
      "photoUrl": "https://lh3.googleusercontent.com/a/default-user=s64",
      "userId": "09230613867822379570"
     },
     "user_tz": 480
    },
    "id": "08013914",
    "outputId": "2f30cfcc-047c-44b4-efbd-3f9f1fc85f84",
    "scrolled": false
   },
   "outputs": [],
   "source": [
    "fit(1e-5, 5, reset_hist=True);\n",
    "fit(1e-4, 5);\n",
    "fit(1e-3, 10);"
   ]
  },
  {
   "cell_type": "code",
   "execution_count": null,
   "metadata": {
    "colab": {
     "base_uri": "https://localhost:8080/"
    },
    "executionInfo": {
     "elapsed": 41762,
     "status": "ok",
     "timestamp": 1637268034741,
     "user": {
      "displayName": "Sim Clr",
      "photoUrl": "https://lh3.googleusercontent.com/a/default-user=s64",
      "userId": "09230613867822379570"
     },
     "user_tz": 480
    },
    "id": "dc80b23d",
    "outputId": "985d3a3b-2554-4a05-afec-8ab75316133b",
    "scrolled": false
   },
   "outputs": [],
   "source": [
    "fit(1e-5, 5);\n",
    "fit(1e-4, 5);\n",
    "fit(1e-3, 10);"
   ]
  },
  {
   "cell_type": "code",
   "execution_count": null,
   "metadata": {
    "colab": {
     "base_uri": "https://localhost:8080/"
    },
    "executionInfo": {
     "elapsed": 51749,
     "status": "ok",
     "timestamp": 1637268086482,
     "user": {
      "displayName": "Sim Clr",
      "photoUrl": "https://lh3.googleusercontent.com/a/default-user=s64",
      "userId": "09230613867822379570"
     },
     "user_tz": 480
    },
    "id": "e7d51882",
    "outputId": "b6d10bba-603e-4302-cda5-31dc665b764d"
   },
   "outputs": [],
   "source": [
    "fit(1e-4, 10);\n",
    "fit(5e-4, 5);\n",
    "fit(1e-4, 10);"
   ]
  },
  {
   "cell_type": "code",
   "execution_count": null,
   "metadata": {
    "colab": {
     "base_uri": "https://localhost:8080/"
    },
    "executionInfo": {
     "elapsed": 51540,
     "status": "ok",
     "timestamp": 1637268138014,
     "user": {
      "displayName": "Sim Clr",
      "photoUrl": "https://lh3.googleusercontent.com/a/default-user=s64",
      "userId": "09230613867822379570"
     },
     "user_tz": 480
    },
    "id": "4fa570da",
    "outputId": "3877f2ef-99ed-4ddc-cb9d-832d458c1120",
    "scrolled": true
   },
   "outputs": [],
   "source": [
    "fit(1e-5, 10);\n",
    "fit(5e-5, 5);\n",
    "fit(1e-5, 10);"
   ]
  },
  {
   "cell_type": "code",
   "execution_count": 19,
   "metadata": {
    "colab": {
     "base_uri": "https://localhost:8080/"
    },
    "executionInfo": {
     "elapsed": 5607,
     "status": "ok",
     "timestamp": 1637268143608,
     "user": {
      "displayName": "Sim Clr",
      "photoUrl": "https://lh3.googleusercontent.com/a/default-user=s64",
      "userId": "09230613867822379570"
     },
     "user_tz": 480
    },
    "id": "d123aa32",
    "outputId": "9da01d55-33ce-4a79-d6ef-d160a11a944c"
   },
   "outputs": [
    {
     "name": "stdout",
     "output_type": "stream",
     "text": [
      "5/5 [==============================] - 5s 382ms/step - loss: 0.5275 - accuracy: 0.8555\n",
      "['loss', 'accuracy']\n"
     ]
    },
    {
     "data": {
      "text/plain": [
       "[0.5274934768676758, 0.8555377125740051]"
      ]
     },
     "execution_count": 19,
     "metadata": {},
     "output_type": "execute_result"
    }
   ],
   "source": [
    "# xray\n",
    "results = model.evaluate(ds_test_xy)\n",
    "print(model.metrics_names)\n",
    "results"
   ]
  },
  {
   "cell_type": "code",
   "execution_count": 20,
   "metadata": {
    "colab": {
     "base_uri": "https://localhost:8080/",
     "height": 294
    },
    "executionInfo": {
     "elapsed": 860,
     "status": "ok",
     "timestamp": 1637268144465,
     "user": {
      "displayName": "Sim Clr",
      "photoUrl": "https://lh3.googleusercontent.com/a/default-user=s64",
      "userId": "09230613867822379570"
     },
     "user_tz": 480
    },
    "id": "990fc5e3",
    "outputId": "834882e4-dcc0-4492-e412-cc98e5259f5e"
   },
   "outputs": [
    {
     "data": {
      "image/png": "[encoded data removed]",
      "text/plain": [
       "<Figure size 864x288 with 2 Axes>"
      ]
     },
     "metadata": {
      "image/png": {
       "height": 277,
       "width": 706
      },
      "needs_background": "light"
     },
     "output_type": "display_data"
    }
   ],
   "source": [
    "plot_fit()"
   ]
  }
 ],
 "metadata": {
  "accelerator": "GPU",
  "colab": {
   "collapsed_sections": [],
   "name": "FSL_ResNet50_XrayReborn_5pc.ipynb",
   "provenance": []
  },
  "kernelspec": {
   "display_name": "Python 3 (ipykernel)",
   "language": "python",
   "name": "python3"
  },
  "language_info": {
   "codemirror_mode": {
    "name": "ipython",
    "version": 3
   },
   "file_extension": ".py",
   "mimetype": "text/x-python",
   "name": "python",
   "nbconvert_exporter": "python",
   "pygments_lexer": "ipython3",
   "version": "3.9.10"
  }
 },
 "nbformat": 4,
 "nbformat_minor": 1
}
