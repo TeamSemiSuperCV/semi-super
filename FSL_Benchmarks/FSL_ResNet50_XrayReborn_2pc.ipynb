{
 "cells": [
  {
   "cell_type": "markdown",
   "metadata": {
    "id": "da6eb011"
   },
   "source": [
    "# Fully-Supervised Learning using ResNet50 on 2% of XRay_Reborn Dataset"
   ]
  },
  {
   "cell_type": "code",
   "execution_count": null,
   "metadata": {
    "colab": {
     "base_uri": "https://localhost:8080/"
    },
    "id": "6131955e",
    "outputId": "fc79364f-bfe3-49fa-9db7-dcbcca1318fa"
   },
   "outputs": [],
   "source": [
    "%config InlineBackend.figure_format='retina'\n",
    "COLAB = 'google.colab' in str(get_ipython())\n",
    "import tensorflow as tf\n",
    "import os\n",
    "if COLAB:\n",
    "    !nvidia-smi -L\n",
    "    from google.colab import drive\n",
    "    drive.mount('/content/drive')\n",
    "    ![ ! -f \"pip_installed\" ] && pip install -q tensorflow-datasets==4.4.0 && touch pip_installed\n",
    "    ![ ! -d \"/root/tensorflow_datasets\" ] &&  unzip -qq /content/drive/MyDrive/TeamSemiSuperCV/Wing/xray_reborn.zip -d /root/tensorflow_datasets\n",
    "else:\n",
    "    os.environ['TF_CPP_MIN_LOG_LEVEL'] = '2'\n",
    "    os.environ[\"CUDA_VISIBLE_DEVICES\"] = '1'\n",
    "    print(tf.config.list_physical_devices('GPU'))"
   ]
  },
  {
   "cell_type": "code",
   "execution_count": 2,
   "metadata": {
    "id": "32cc774b"
   },
   "outputs": [],
   "source": [
    "import numpy as np\n",
    "import matplotlib.pyplot as plt\n",
    "import tensorflow_datasets as tfds\n",
    "from collections import Counter\n",
    "from tensorflow.keras.models import Sequential\n",
    "from tensorflow.keras.layers import *\n",
    "from tensorflow.keras.optimizers import Adam\n",
    "from tensorflow.keras.losses import BinaryCrossentropy\n",
    "from tensorflow.keras.regularizers import l2\n",
    "from tensorflow.keras.metrics import Precision, Recall\n",
    "from tensorflow.keras.models import Model\n",
    "from tensorflow.keras.applications import ResNet50"
   ]
  },
  {
   "cell_type": "code",
   "execution_count": 3,
   "metadata": {
    "id": "f41b1bab"
   },
   "outputs": [],
   "source": [
    "RAND_SEED = 42\n",
    "BATCH_SIZE = 128\n",
    "IMG_SIZE = (256, 256, 3)\n",
    "CLASS_WEIGHTS = {0: 0.6, 1: 0.4}\n",
    "SHUFFLE_SIZE = BATCH_SIZE * 10"
   ]
  },
  {
   "cell_type": "code",
   "execution_count": null,
   "metadata": {
    "colab": {
     "base_uri": "https://localhost:8080/"
    },
    "id": "92298f03",
    "outputId": "c48f059c-2162-46cb-a522-5b7a0e21e786"
   },
   "outputs": [],
   "source": [
    "ds = tfds.load('xray_reborn')\n",
    "ds_train = ds['train_2pc']\n",
    "ds_valid = ds['validation']\n",
    "ds_test = ds['test']\n",
    "ds_train.element_spec, ds_valid.element_spec, ds_test.element_spec"
   ]
  },
  {
   "cell_type": "code",
   "execution_count": 5,
   "metadata": {
    "colab": {
     "base_uri": "https://localhost:8080/"
    },
    "id": "a152eefe",
    "outputId": "d90e42bb-1f5b-492c-82c2-d66c8db06b9f"
   },
   "outputs": [
    {
     "data": {
      "text/plain": [
       "(104, 524, 623)"
      ]
     },
     "execution_count": 5,
     "metadata": {},
     "output_type": "execute_result"
    }
   ],
   "source": [
    "len(ds_train), len(ds_valid), len(ds_test)"
   ]
  },
  {
   "cell_type": "code",
   "execution_count": 6,
   "metadata": {
    "colab": {
     "base_uri": "https://localhost:8080/",
     "height": 35
    },
    "id": "7d729856",
    "outputId": "d26ab505-e7e9-4d62-faa0-ca47812c4f0d"
   },
   "outputs": [
    {
     "data": {
      "application/vnd.google.colaboratory.intrinsic+json": {
       "type": "string"
      },
      "text/plain": [
       "\"Train: Counter({'1': 78, '0': 26}), Valid: Counter({'1': 384, '0': 140}), Test: Counter({'1': 451, '0': 172})\""
      ]
     },
     "execution_count": 6,
     "metadata": {},
     "output_type": "execute_result"
    }
   ],
   "source": [
    "cnt_train, cnt_valid, cnt_test = Counter(), Counter(), Counter()\n",
    "for ex in ds_train: cnt_train.update(str(ex['label'].numpy()))\n",
    "for ex in ds_valid: cnt_valid.update(str(ex['label'].numpy()))\n",
    "for ex in ds_test: cnt_test.update(str(ex['label'].numpy()))\n",
    "f'Train: {cnt_train}, Valid: {cnt_valid}, Test: {cnt_test}'"
   ]
  },
  {
   "cell_type": "code",
   "execution_count": null,
   "metadata": {
    "colab": {
     "base_uri": "https://localhost:8080/"
    },
    "id": "e2dfe225",
    "outputId": "7fa3ef7c-b3b0-4023-8887-24d93820febd"
   },
   "outputs": [],
   "source": [
    "ds_train_xy = ds_train.map(lambda d: (d['image'], d['label']))\n",
    "ds_valid_xy = ds_valid.map(lambda d: (d['image'], d['label']))\n",
    "ds_test_xy = ds_test.map(lambda d: (d['image'], d['label']))\n",
    "ds_train_xy.element_spec, ds_valid_xy.element_spec, ds_test_xy.element_spec"
   ]
  },
  {
   "cell_type": "code",
   "execution_count": 8,
   "metadata": {
    "id": "43d1a896"
   },
   "outputs": [],
   "source": [
    "def img_preprocess(imgs):\n",
    "    imgs = tf.image.resize(imgs, IMG_SIZE[:2], method='bicubic')\n",
    "    return imgs"
   ]
  },
  {
   "cell_type": "code",
   "execution_count": 9,
   "metadata": {
    "id": "d69e47cd"
   },
   "outputs": [],
   "source": [
    "def model_preprocess(x):\n",
    "    x = Rescaling(1/255)(x)\n",
    "    x = RandomFlip(\"horizontal\")(x)\n",
    "    x = RandomTranslation(0.15, 0.15, fill_mode='constant', fill_value=0.0)(x)\n",
    "    x = RandomZoom(0.1, fill_mode='constant', fill_value=0.0)(x)\n",
    "    x = RandomRotation(0.1, fill_mode='constant', fill_value=0.0)(x)\n",
    "    x = RandomContrast(0.15)(x)\n",
    "    return x"
   ]
  },
  {
   "cell_type": "code",
   "execution_count": null,
   "metadata": {
    "colab": {
     "base_uri": "https://localhost:8080/"
    },
    "id": "241150ab",
    "outputId": "f935c664-ede5-4309-f631-d97085bfe034"
   },
   "outputs": [],
   "source": [
    "ds_train_xy = ds_train_xy.prefetch(tf.data.AUTOTUNE)\n",
    "ds_train_xy = ds_train_xy.map(lambda x, y: (img_preprocess(x), y))\n",
    "ds_train_xy = ds_train_xy.shuffle(SHUFFLE_SIZE).batch(BATCH_SIZE).cache().prefetch(tf.data.AUTOTUNE)\n",
    "\n",
    "ds_valid_xy = ds_valid_xy.prefetch(tf.data.AUTOTUNE)\n",
    "ds_valid_xy = ds_valid_xy.map(lambda x, y: (img_preprocess(x), y))\n",
    "ds_valid_xy = ds_valid_xy.shuffle(SHUFFLE_SIZE).batch(BATCH_SIZE).cache().prefetch(tf.data.AUTOTUNE)\n",
    "\n",
    "ds_test_xy = ds_test_xy.prefetch(tf.data.AUTOTUNE)\n",
    "ds_test_xy = ds_test_xy.map(lambda x, y: (img_preprocess(x), y))\n",
    "ds_test_xy = ds_test_xy.shuffle(SHUFFLE_SIZE).batch(BATCH_SIZE).cache().prefetch(tf.data.AUTOTUNE)\n",
    "\n",
    "ds_train_xy.element_spec, ds_valid_xy.element_spec, ds_test_xy.element_spec"
   ]
  },
  {
   "cell_type": "code",
   "execution_count": 11,
   "metadata": {
    "id": "98b85f92"
   },
   "outputs": [],
   "source": [
    "# This model uses ResNet50 as the backbone\n",
    "def make_model(input_shape):\n",
    "    initializer = 'glorot_uniform'\n",
    "    \n",
    "    base_model = ResNet50(include_top=False, pooling='max', weights=\"imagenet\",\n",
    "                          input_shape=input_shape)\n",
    "    base_model.trainable = False\n",
    "\n",
    "    inputs = Input(shape=input_shape)\n",
    "    x = model_preprocess(inputs)\n",
    "    x = base_model(x)\n",
    "    x = Dropout(0.4)(x)\n",
    "    x = BatchNormalization()(x)\n",
    "    x = Dense(64, activation='relu', kernel_initializer=initializer,\n",
    "              kernel_regularizer=l2(1e-4))(x)\n",
    "    x = Dropout(0.4)(x)\n",
    "    x = BatchNormalization()(x)\n",
    "    outputs = Dense(1, activation='sigmoid', kernel_initializer=initializer,\n",
    "                    kernel_regularizer=l2(1e-4))(x)\n",
    "    \n",
    "    model = Model(inputs=inputs, outputs=outputs)\n",
    "    return model"
   ]
  },
  {
   "cell_type": "code",
   "execution_count": 12,
   "metadata": {
    "id": "553034d9"
   },
   "outputs": [],
   "source": [
    "from collections import defaultdict\n",
    "\n",
    "# Fit <model> using <optimizer> and <class_weight>\n",
    "# while accumulating histories\n",
    "def fit(learning_rate, epochs, reset_hist=False):\n",
    "    if reset_hist:\n",
    "        fit.history = defaultdict(lambda: [])\n",
    "    \n",
    "    optimizer.lr.assign(learning_rate)\n",
    "    history = model.fit(ds_train_xy, validation_data=ds_valid_xy,\n",
    "                        class_weight=CLASS_WEIGHTS, verbose=2,\n",
    "                        epochs=epochs)\n",
    "    for metric, values in history.history.items():\n",
    "        fit.history[metric].extend(values)\n",
    "    return history"
   ]
  },
  {
   "cell_type": "code",
   "execution_count": 13,
   "metadata": {
    "id": "02baaee6"
   },
   "outputs": [],
   "source": [
    "# Plot Training-vs-Validation Metrics\n",
    "def plot_fit():\n",
    "    # first two log entries will be skipped to not skew y-scale\n",
    "    plt.figure(figsize=(12, 4))\n",
    "    ax = plt.subplot(1, 2, 1)\n",
    "    ax.set_xlabel('Epochs')\n",
    "    ax.set_title('Training Loss, Validation Loss');\n",
    "    ax.plot(fit.history['loss'][2:], label='Train')\n",
    "    ax.plot(fit.history['val_loss'][2:], label='Valid')\n",
    "    ax.set_ylim([0, 0.5])\n",
    "    ax.legend()\n",
    "    \n",
    "    ax = plt.subplot(1, 2, 2)\n",
    "    ax.set_xlabel('Epochs')\n",
    "    ax.set_title('Training Accuracy, Validation Accuracy');\n",
    "    ax.plot(fit.history['accuracy'][2:], label='Train')\n",
    "    ax.plot(fit.history['val_accuracy'][2:], label='Valid')\n",
    "    ax.set_ylim([0.7, 1.0])\n",
    "    ax.legend()"
   ]
  },
  {
   "cell_type": "code",
   "execution_count": 14,
   "metadata": {
    "colab": {
     "base_uri": "https://localhost:8080/"
    },
    "id": "382d07fb",
    "outputId": "1a67d18d-14f8-4d82-bf55-016e0d12ccc9"
   },
   "outputs": [
    {
     "name": "stdout",
     "output_type": "stream",
     "text": [
      "Model: \"model\"\n",
      "_________________________________________________________________\n",
      " Layer (type)                Output Shape              Param #   \n",
      "=================================================================\n",
      " input_2 (InputLayer)        [(None, 256, 256, 3)]     0         \n",
      "                                                                 \n",
      " rescaling (Rescaling)       (None, 256, 256, 3)       0         \n",
      "                                                                 \n",
      " random_flip (RandomFlip)    (None, 256, 256, 3)       0         \n",
      "                                                                 \n",
      " random_translation (RandomT  (None, 256, 256, 3)      0         \n",
      " ranslation)                                                     \n",
      "                                                                 \n",
      " random_zoom (RandomZoom)    (None, 256, 256, 3)       0         \n",
      "                                                                 \n",
      " random_rotation (RandomRota  (None, 256, 256, 3)      0         \n",
      " tion)                                                           \n",
      "                                                                 \n",
      " random_contrast (RandomCont  (None, 256, 256, 3)      0         \n",
      " rast)                                                           \n",
      "                                                                 \n",
      " resnet50 (Functional)       (None, 2048)              23587712  \n",
      "                                                                 \n",
      " dropout (Dropout)           (None, 2048)              0         \n",
      "                                                                 \n",
      " batch_normalization (BatchN  (None, 2048)             8192      \n",
      " ormalization)                                                   \n",
      "                                                                 \n",
      " dense (Dense)               (None, 64)                131136    \n",
      "                                                                 \n",
      " dropout_1 (Dropout)         (None, 64)                0         \n",
      "                                                                 \n",
      " batch_normalization_1 (Batc  (None, 64)               256       \n",
      " hNormalization)                                                 \n",
      "                                                                 \n",
      " dense_1 (Dense)             (None, 1)                 65        \n",
      "                                                                 \n",
      "=================================================================\n",
      "Total params: 23,727,361\n",
      "Trainable params: 135,425\n",
      "Non-trainable params: 23,591,936\n",
      "_________________________________________________________________\n"
     ]
    }
   ],
   "source": [
    "tf.keras.backend.clear_session()\n",
    "\n",
    "model = make_model(IMG_SIZE)\n",
    "optimizer = Adam()\n",
    "model.compile(loss=BinaryCrossentropy(from_logits=False, label_smoothing=0.1),\n",
    "              optimizer=optimizer,\n",
    "              metrics=['accuracy'])\n",
    "model.summary()"
   ]
  },
  {
   "cell_type": "code",
   "execution_count": null,
   "metadata": {
    "colab": {
     "base_uri": "https://localhost:8080/"
    },
    "id": "xGhvIQB5JjFP",
    "outputId": "556c8e25-8d2e-4dad-e2c3-5124b1ec394f"
   },
   "outputs": [],
   "source": [
    "fit(1e-4, 1, reset_hist=True);\n",
    "model.layers[-7].trainable = True"
   ]
  },
  {
   "cell_type": "code",
   "execution_count": null,
   "metadata": {
    "colab": {
     "base_uri": "https://localhost:8080/"
    },
    "id": "08013914",
    "outputId": "d251fb32-9451-4f81-f700-4ba0e859d77b",
    "scrolled": false
   },
   "outputs": [],
   "source": [
    "fit(1e-5, 5, reset_hist=True);\n",
    "fit(1e-4, 5);\n",
    "fit(1e-3, 10);"
   ]
  },
  {
   "cell_type": "code",
   "execution_count": null,
   "metadata": {
    "colab": {
     "base_uri": "https://localhost:8080/"
    },
    "id": "dc80b23d",
    "outputId": "b669085a-0e20-4cd9-eb6a-f6a1ea407334",
    "scrolled": false
   },
   "outputs": [],
   "source": [
    "fit(1e-5, 5);\n",
    "fit(1e-4, 5);\n",
    "fit(1e-3, 10);"
   ]
  },
  {
   "cell_type": "code",
   "execution_count": null,
   "metadata": {
    "colab": {
     "base_uri": "https://localhost:8080/"
    },
    "id": "dc80b23d",
    "outputId": "b669085a-0e20-4cd9-eb6a-f6a1ea407334",
    "scrolled": false
   },
   "outputs": [],
   "source": [
    "fit(1e-5, 5);\n",
    "fit(1e-4, 5);\n",
    "fit(1e-3, 5);"
   ]
  },
  {
   "cell_type": "code",
   "execution_count": 44,
   "metadata": {
    "colab": {
     "base_uri": "https://localhost:8080/"
    },
    "id": "d123aa32",
    "outputId": "eed4caab-0485-4a39-b8e0-30d42fbb7538"
   },
   "outputs": [
    {
     "name": "stdout",
     "output_type": "stream",
     "text": [
      "5/5 [==============================] - 1s 230ms/step - loss: 0.5344 - accuracy: 0.8507\n",
      "['loss', 'accuracy']\n"
     ]
    },
    {
     "data": {
      "text/plain": [
       "[0.5343505144119263, 0.8507223129272461]"
      ]
     },
     "execution_count": 44,
     "metadata": {},
     "output_type": "execute_result"
    }
   ],
   "source": [
    "# xray\n",
    "results = model.evaluate(ds_test_xy)\n",
    "print(model.metrics_names)\n",
    "results"
   ]
  },
  {
   "cell_type": "code",
   "execution_count": 45,
   "metadata": {
    "colab": {
     "base_uri": "https://localhost:8080/",
     "height": 294
    },
    "id": "990fc5e3",
    "outputId": "b74f1401-51b9-430e-fe33-fb98a134792c"
   },
   "outputs": [
    {
     "data": {
      "image/png": "[encoded data removed]",
      "text/plain": [
       "<Figure size 864x288 with 2 Axes>"
      ]
     },
     "metadata": {
      "image/png": {
       "height": 277,
       "width": 706
      },
      "needs_background": "light"
     },
     "output_type": "display_data"
    }
   ],
   "source": [
    "plot_fit()"
   ]
  },
  {
   "cell_type": "code",
   "execution_count": null,
   "metadata": {
    "id": "MyUEIEUsCZe8"
   },
   "outputs": [],
   "source": []
  }
 ],
 "metadata": {
  "accelerator": "GPU",
  "colab": {
   "collapsed_sections": [],
   "name": "FSL_ResNet50_XrayReborn_2pc.ipynb",
   "provenance": []
  },
  "kernelspec": {
   "display_name": "Python 3 (ipykernel)",
   "language": "python",
   "name": "python3"
  },
  "language_info": {
   "codemirror_mode": {
    "name": "ipython",
    "version": 3
   },
   "file_extension": ".py",
   "mimetype": "text/x-python",
   "name": "python",
   "nbconvert_exporter": "python",
   "pygments_lexer": "ipython3",
   "version": "3.9.10"
  }
 },
 "nbformat": 4,
 "nbformat_minor": 1
}
