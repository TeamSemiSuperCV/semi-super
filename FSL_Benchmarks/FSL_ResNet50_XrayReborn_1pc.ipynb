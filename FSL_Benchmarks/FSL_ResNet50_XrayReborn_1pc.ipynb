{
 "cells": [
  {
   "cell_type": "markdown",
   "metadata": {
    "id": "da6eb011"
   },
   "source": [
    "# Fully-Supervised Learning using ResNet50 on 1% of XRay_Reborn Dataset"
   ]
  },
  {
   "cell_type": "markdown",
   "metadata": {},
   "source": [
    "Train on only 1% of the labelled training data in order to compare Fully-Supervised vs Semi-Supervised approaches."
   ]
  },
  {
   "cell_type": "code",
   "execution_count": null,
   "metadata": {
    "colab": {
     "base_uri": "https://localhost:8080/"
    },
    "executionInfo": {
     "elapsed": 2375,
     "status": "ok",
     "timestamp": 1637267862996,
     "user": {
      "displayName": "Sim Clr",
      "photoUrl": "https://lh3.googleusercontent.com/a/default-user=s64",
      "userId": "09230613867822379570"
     },
     "user_tz": 480
    },
    "id": "6131955e",
    "outputId": "c322858c-69d5-43ce-a08b-83ba46b64a0e"
   },
   "outputs": [],
   "source": [
    "%config InlineBackend.figure_format='retina'\n",
    "COLAB = 'google.colab' in str(get_ipython())\n",
    "import tensorflow as tf\n",
    "import os\n",
    "if COLAB:\n",
    "    !nvidia-smi -L\n",
    "    from google.colab import drive\n",
    "    drive.mount('/content/drive')\n",
    "    ![ ! -f \"pip_installed\" ] && pip install -q tensorflow-datasets==4.4.0 && touch pip_installed\n",
    "    ![ ! -d \"/root/tensorflow_datasets\" ] &&  unzip -qq /content/drive/MyDrive/TeamSemiSuperCV/Wing/xray_reborn.zip -d /root/tensorflow_datasets\n",
    "else:\n",
    "    os.environ['TF_CPP_MIN_LOG_LEVEL'] = '2'\n",
    "    os.environ[\"CUDA_VISIBLE_DEVICES\"] = '1'\n",
    "    print(tf.config.list_physical_devices('GPU'))"
   ]
  },
  {
   "cell_type": "code",
   "execution_count": 2,
   "metadata": {
    "executionInfo": {
     "elapsed": 522,
     "status": "ok",
     "timestamp": 1637267863513,
     "user": {
      "displayName": "Sim Clr",
      "photoUrl": "https://lh3.googleusercontent.com/a/default-user=s64",
      "userId": "09230613867822379570"
     },
     "user_tz": 480
    },
    "id": "32cc774b"
   },
   "outputs": [],
   "source": [
    "import numpy as np\n",
    "import matplotlib.pyplot as plt\n",
    "import tensorflow_datasets as tfds\n",
    "from collections import Counter\n",
    "from tensorflow.keras.models import Sequential\n",
    "from tensorflow.keras.layers import *\n",
    "from tensorflow.keras.optimizers import Adam\n",
    "from tensorflow.keras.losses import BinaryCrossentropy\n",
    "from tensorflow.keras.regularizers import l2\n",
    "from tensorflow.keras.metrics import Precision, Recall\n",
    "from tensorflow.keras.models import Model\n",
    "from tensorflow.keras.applications import ResNet50"
   ]
  },
  {
   "cell_type": "code",
   "execution_count": 3,
   "metadata": {
    "executionInfo": {
     "elapsed": 5,
     "status": "ok",
     "timestamp": 1637267863513,
     "user": {
      "displayName": "Sim Clr",
      "photoUrl": "https://lh3.googleusercontent.com/a/default-user=s64",
      "userId": "09230613867822379570"
     },
     "user_tz": 480
    },
    "id": "f41b1bab"
   },
   "outputs": [],
   "source": [
    "RAND_SEED = 42\n",
    "BATCH_SIZE = 128\n",
    "IMG_SIZE = (256, 256, 3)\n",
    "CLASS_WEIGHTS = {0: 0.6, 1: 0.4}\n",
    "SHUFFLE_SIZE = BATCH_SIZE * 10"
   ]
  },
  {
   "cell_type": "code",
   "execution_count": null,
   "metadata": {
    "colab": {
     "base_uri": "https://localhost:8080/"
    },
    "executionInfo": {
     "elapsed": 883,
     "status": "ok",
     "timestamp": 1637267864392,
     "user": {
      "displayName": "Sim Clr",
      "photoUrl": "https://lh3.googleusercontent.com/a/default-user=s64",
      "userId": "09230613867822379570"
     },
     "user_tz": 480
    },
    "id": "92298f03",
    "outputId": "75ca0fa7-37d8-4da7-b396-1ff3aa2945ba"
   },
   "outputs": [],
   "source": [
    "ds = tfds.load('xray_reborn')\n",
    "ds_train = ds['train_1pc']  # Train on only 1% (for comparing against SSL)\n",
    "ds_valid = ds['validation']\n",
    "ds_test = ds['test']\n",
    "ds_train.element_spec, ds_valid.element_spec, ds_test.element_spec"
   ]
  },
  {
   "cell_type": "code",
   "execution_count": 5,
   "metadata": {
    "colab": {
     "base_uri": "https://localhost:8080/"
    },
    "executionInfo": {
     "elapsed": 6,
     "status": "ok",
     "timestamp": 1637267864393,
     "user": {
      "displayName": "Sim Clr",
      "photoUrl": "https://lh3.googleusercontent.com/a/default-user=s64",
      "userId": "09230613867822379570"
     },
     "user_tz": 480
    },
    "id": "a152eefe",
    "outputId": "e9302de0-8ef2-494c-d346-dee3d8d32aa9"
   },
   "outputs": [
    {
     "data": {
      "text/plain": [
       "(52, 524, 623)"
      ]
     },
     "execution_count": 5,
     "metadata": {},
     "output_type": "execute_result"
    }
   ],
   "source": [
    "len(ds_train), len(ds_valid), len(ds_test)"
   ]
  },
  {
   "cell_type": "code",
   "execution_count": 6,
   "metadata": {
    "colab": {
     "base_uri": "https://localhost:8080/",
     "height": 35
    },
    "executionInfo": {
     "elapsed": 3380,
     "status": "ok",
     "timestamp": 1637267867770,
     "user": {
      "displayName": "Sim Clr",
      "photoUrl": "https://lh3.googleusercontent.com/a/default-user=s64",
      "userId": "09230613867822379570"
     },
     "user_tz": 480
    },
    "id": "7d729856",
    "outputId": "bb1fb7a5-1e0a-4dde-eb13-42940b650e7c"
   },
   "outputs": [
    {
     "data": {
      "application/vnd.google.colaboratory.intrinsic+json": {
       "type": "string"
      },
      "text/plain": [
       "\"Train: Counter({'1': 41, '0': 11}), Valid: Counter({'1': 384, '0': 140}), Test: Counter({'1': 451, '0': 172})\""
      ]
     },
     "execution_count": 6,
     "metadata": {},
     "output_type": "execute_result"
    }
   ],
   "source": [
    "cnt_train, cnt_valid, cnt_test = Counter(), Counter(), Counter()\n",
    "for ex in ds_train: cnt_train.update(str(ex['label'].numpy()))\n",
    "for ex in ds_valid: cnt_valid.update(str(ex['label'].numpy()))\n",
    "for ex in ds_test: cnt_test.update(str(ex['label'].numpy()))\n",
    "f'Train: {cnt_train}, Valid: {cnt_valid}, Test: {cnt_test}'"
   ]
  },
  {
   "cell_type": "code",
   "execution_count": null,
   "metadata": {
    "colab": {
     "base_uri": "https://localhost:8080/"
    },
    "executionInfo": {
     "elapsed": 12,
     "status": "ok",
     "timestamp": 1637267867771,
     "user": {
      "displayName": "Sim Clr",
      "photoUrl": "https://lh3.googleusercontent.com/a/default-user=s64",
      "userId": "09230613867822379570"
     },
     "user_tz": 480
    },
    "id": "e2dfe225",
    "outputId": "43c581f1-03eb-4ba0-f9e1-320305628e6c"
   },
   "outputs": [],
   "source": [
    "ds_train_xy = ds_train.map(lambda d: (d['image'], d['label']))\n",
    "ds_valid_xy = ds_valid.map(lambda d: (d['image'], d['label']))\n",
    "ds_test_xy = ds_test.map(lambda d: (d['image'], d['label']))\n",
    "ds_train_xy.element_spec, ds_valid_xy.element_spec, ds_test_xy.element_spec"
   ]
  },
  {
   "cell_type": "code",
   "execution_count": 8,
   "metadata": {
    "executionInfo": {
     "elapsed": 7,
     "status": "ok",
     "timestamp": 1637267867771,
     "user": {
      "displayName": "Sim Clr",
      "photoUrl": "https://lh3.googleusercontent.com/a/default-user=s64",
      "userId": "09230613867822379570"
     },
     "user_tz": 480
    },
    "id": "43d1a896"
   },
   "outputs": [],
   "source": [
    "def img_preprocess(imgs):\n",
    "    imgs = tf.image.resize(imgs, IMG_SIZE[:2], method='bicubic')\n",
    "    return imgs"
   ]
  },
  {
   "cell_type": "code",
   "execution_count": 9,
   "metadata": {
    "executionInfo": {
     "elapsed": 7,
     "status": "ok",
     "timestamp": 1637267867772,
     "user": {
      "displayName": "Sim Clr",
      "photoUrl": "https://lh3.googleusercontent.com/a/default-user=s64",
      "userId": "09230613867822379570"
     },
     "user_tz": 480
    },
    "id": "d69e47cd"
   },
   "outputs": [],
   "source": [
    "def model_preprocess(x):\n",
    "    x = Rescaling(1/255)(x)\n",
    "    x = RandomFlip(\"horizontal\")(x)\n",
    "    x = RandomTranslation(0.15, 0.15, fill_mode='constant', fill_value=0.0)(x)\n",
    "    x = RandomZoom(0.1, fill_mode='constant', fill_value=0.0)(x)\n",
    "    x = RandomRotation(0.1, fill_mode='constant', fill_value=0.0)(x)\n",
    "    x = RandomContrast(0.15)(x)\n",
    "    return x"
   ]
  },
  {
   "cell_type": "code",
   "execution_count": null,
   "metadata": {
    "colab": {
     "base_uri": "https://localhost:8080/"
    },
    "executionInfo": {
     "elapsed": 198,
     "status": "ok",
     "timestamp": 1637267867963,
     "user": {
      "displayName": "Sim Clr",
      "photoUrl": "https://lh3.googleusercontent.com/a/default-user=s64",
      "userId": "09230613867822379570"
     },
     "user_tz": 480
    },
    "id": "241150ab",
    "outputId": "5935a5a2-75ea-4a63-a189-33efb87e75ab"
   },
   "outputs": [],
   "source": [
    "ds_train_xy = ds_train_xy.prefetch(tf.data.AUTOTUNE)\n",
    "ds_train_xy = ds_train_xy.map(lambda x, y: (img_preprocess(x), y))\n",
    "ds_train_xy = ds_train_xy.shuffle(SHUFFLE_SIZE).batch(BATCH_SIZE).cache().prefetch(tf.data.AUTOTUNE)\n",
    "\n",
    "ds_valid_xy = ds_valid_xy.prefetch(tf.data.AUTOTUNE)\n",
    "ds_valid_xy = ds_valid_xy.map(lambda x, y: (img_preprocess(x), y))\n",
    "ds_valid_xy = ds_valid_xy.shuffle(SHUFFLE_SIZE).batch(BATCH_SIZE).cache().prefetch(tf.data.AUTOTUNE)\n",
    "\n",
    "ds_test_xy = ds_test_xy.prefetch(tf.data.AUTOTUNE)\n",
    "ds_test_xy = ds_test_xy.map(lambda x, y: (img_preprocess(x), y))\n",
    "ds_test_xy = ds_test_xy.shuffle(SHUFFLE_SIZE).batch(BATCH_SIZE).cache().prefetch(tf.data.AUTOTUNE)\n",
    "\n",
    "ds_train_xy.element_spec, ds_valid_xy.element_spec, ds_test_xy.element_spec"
   ]
  },
  {
   "cell_type": "code",
   "execution_count": 11,
   "metadata": {
    "executionInfo": {
     "elapsed": 5,
     "status": "ok",
     "timestamp": 1637267867964,
     "user": {
      "displayName": "Sim Clr",
      "photoUrl": "https://lh3.googleusercontent.com/a/default-user=s64",
      "userId": "09230613867822379570"
     },
     "user_tz": 480
    },
    "id": "98b85f92"
   },
   "outputs": [],
   "source": [
    "# This model uses ResNet50 as the backbone\n",
    "def make_model(input_shape):\n",
    "    initializer = 'glorot_uniform'\n",
    "    \n",
    "    base_model = ResNet50(include_top=False, pooling='max', weights=\"imagenet\",\n",
    "                          input_shape=input_shape)\n",
    "    base_model.trainable = False\n",
    "\n",
    "    inputs = Input(shape=input_shape)\n",
    "    x = model_preprocess(inputs)\n",
    "    x = base_model(x)\n",
    "    x = Dropout(0.4)(x)\n",
    "    x = BatchNormalization()(x)\n",
    "    x = Dense(64, activation='relu', kernel_initializer=initializer,\n",
    "              kernel_regularizer=l2(1e-4))(x)\n",
    "    x = Dropout(0.4)(x)\n",
    "    x = BatchNormalization()(x)\n",
    "    outputs = Dense(1, activation='sigmoid', kernel_initializer=initializer,\n",
    "                    kernel_regularizer=l2(1e-4))(x)\n",
    "    \n",
    "    model = Model(inputs=inputs, outputs=outputs)\n",
    "    return model"
   ]
  },
  {
   "cell_type": "code",
   "execution_count": 12,
   "metadata": {
    "executionInfo": {
     "elapsed": 5,
     "status": "ok",
     "timestamp": 1637267867964,
     "user": {
      "displayName": "Sim Clr",
      "photoUrl": "https://lh3.googleusercontent.com/a/default-user=s64",
      "userId": "09230613867822379570"
     },
     "user_tz": 480
    },
    "id": "553034d9"
   },
   "outputs": [],
   "source": [
    "from collections import defaultdict\n",
    "\n",
    "# Fit <model> using <optimizer> and <class_weight>\n",
    "# while accumulating histories\n",
    "def fit(learning_rate, epochs, reset_hist=False):\n",
    "    if reset_hist:\n",
    "        fit.history = defaultdict(lambda: [])\n",
    "    \n",
    "    optimizer.lr.assign(learning_rate)\n",
    "    history = model.fit(ds_train_xy, validation_data=ds_valid_xy,\n",
    "                        class_weight=CLASS_WEIGHTS, verbose=2,\n",
    "                        epochs=epochs)\n",
    "    for metric, values in history.history.items():\n",
    "        fit.history[metric].extend(values)\n",
    "    return history"
   ]
  },
  {
   "cell_type": "code",
   "execution_count": 13,
   "metadata": {
    "executionInfo": {
     "elapsed": 6,
     "status": "ok",
     "timestamp": 1637267867965,
     "user": {
      "displayName": "Sim Clr",
      "photoUrl": "https://lh3.googleusercontent.com/a/default-user=s64",
      "userId": "09230613867822379570"
     },
     "user_tz": 480
    },
    "id": "02baaee6"
   },
   "outputs": [],
   "source": [
    "# Plot Training-vs-Validation Metrics\n",
    "def plot_fit():\n",
    "    # first two log entries will be skipped to not skew y-scale\n",
    "    plt.figure(figsize=(12, 4))\n",
    "    ax = plt.subplot(1, 2, 1)\n",
    "    ax.set_xlabel('Epochs')\n",
    "    ax.set_title('Training Loss, Validation Loss');\n",
    "    ax.plot(fit.history['loss'][2:], label='Train')\n",
    "    ax.plot(fit.history['val_loss'][2:], label='Valid')\n",
    "    ax.set_ylim([0, 0.5])\n",
    "    ax.legend()\n",
    "    \n",
    "    ax = plt.subplot(1, 2, 2)\n",
    "    ax.set_xlabel('Epochs')\n",
    "    ax.set_title('Training Accuracy, Validation Accuracy');\n",
    "    ax.plot(fit.history['accuracy'][2:], label='Train')\n",
    "    ax.plot(fit.history['val_accuracy'][2:], label='Valid')\n",
    "    ax.set_ylim([0.7, 1.0])\n",
    "    ax.legend()"
   ]
  },
  {
   "cell_type": "code",
   "execution_count": 14,
   "metadata": {
    "colab": {
     "base_uri": "https://localhost:8080/"
    },
    "executionInfo": {
     "elapsed": 2169,
     "status": "ok",
     "timestamp": 1637267870129,
     "user": {
      "displayName": "Sim Clr",
      "photoUrl": "https://lh3.googleusercontent.com/a/default-user=s64",
      "userId": "09230613867822379570"
     },
     "user_tz": 480
    },
    "id": "382d07fb",
    "outputId": "5ed3bbe5-56af-4383-a880-27976f9c5878"
   },
   "outputs": [
    {
     "name": "stdout",
     "output_type": "stream",
     "text": [
      "Model: \"model\"\n",
      "_________________________________________________________________\n",
      " Layer (type)                Output Shape              Param #   \n",
      "=================================================================\n",
      " input_2 (InputLayer)        [(None, 256, 256, 3)]     0         \n",
      "                                                                 \n",
      " rescaling (Rescaling)       (None, 256, 256, 3)       0         \n",
      "                                                                 \n",
      " random_flip (RandomFlip)    (None, 256, 256, 3)       0         \n",
      "                                                                 \n",
      " random_translation (RandomT  (None, 256, 256, 3)      0         \n",
      " ranslation)                                                     \n",
      "                                                                 \n",
      " random_zoom (RandomZoom)    (None, 256, 256, 3)       0         \n",
      "                                                                 \n",
      " random_rotation (RandomRota  (None, 256, 256, 3)      0         \n",
      " tion)                                                           \n",
      "                                                                 \n",
      " random_contrast (RandomCont  (None, 256, 256, 3)      0         \n",
      " rast)                                                           \n",
      "                                                                 \n",
      " resnet50 (Functional)       (None, 2048)              23587712  \n",
      "                                                                 \n",
      " dropout (Dropout)           (None, 2048)              0         \n",
      "                                                                 \n",
      " batch_normalization (BatchN  (None, 2048)             8192      \n",
      " ormalization)                                                   \n",
      "                                                                 \n",
      " dense (Dense)               (None, 64)                131136    \n",
      "                                                                 \n",
      " dropout_1 (Dropout)         (None, 64)                0         \n",
      "                                                                 \n",
      " batch_normalization_1 (Batc  (None, 64)               256       \n",
      " hNormalization)                                                 \n",
      "                                                                 \n",
      " dense_1 (Dense)             (None, 1)                 65        \n",
      "                                                                 \n",
      "=================================================================\n",
      "Total params: 23,727,361\n",
      "Trainable params: 135,425\n",
      "Non-trainable params: 23,591,936\n",
      "_________________________________________________________________\n"
     ]
    }
   ],
   "source": [
    "tf.keras.backend.clear_session()\n",
    "\n",
    "model = make_model(IMG_SIZE)\n",
    "optimizer = Adam()\n",
    "model.compile(loss=BinaryCrossentropy(from_logits=False, label_smoothing=0.1),\n",
    "              optimizer=optimizer,\n",
    "              metrics=['accuracy'])\n",
    "model.summary()"
   ]
  },
  {
   "cell_type": "code",
   "execution_count": null,
   "metadata": {
    "colab": {
     "base_uri": "https://localhost:8080/"
    },
    "executionInfo": {
     "elapsed": 33786,
     "status": "ok",
     "timestamp": 1637267903910,
     "user": {
      "displayName": "Sim Clr",
      "photoUrl": "https://lh3.googleusercontent.com/a/default-user=s64",
      "userId": "09230613867822379570"
     },
     "user_tz": 480
    },
    "id": "08013914",
    "outputId": "6378722e-808b-4d2f-e507-ada8ece8bee5",
    "scrolled": false
   },
   "outputs": [],
   "source": [
    "fit(1e-5, 5, reset_hist=True);\n",
    "fit(1e-4, 5);\n",
    "fit(1e-3, 10);"
   ]
  },
  {
   "cell_type": "code",
   "execution_count": null,
   "metadata": {
    "colab": {
     "base_uri": "https://localhost:8080/"
    },
    "executionInfo": {
     "elapsed": 24334,
     "status": "ok",
     "timestamp": 1637267928235,
     "user": {
      "displayName": "Sim Clr",
      "photoUrl": "https://lh3.googleusercontent.com/a/default-user=s64",
      "userId": "09230613867822379570"
     },
     "user_tz": 480
    },
    "id": "dc80b23d",
    "outputId": "11b367aa-a13b-4bd8-8d22-14ef7bbe4535",
    "scrolled": false
   },
   "outputs": [],
   "source": [
    "fit(1e-5, 5);\n",
    "fit(1e-4, 5);\n",
    "fit(1e-3, 10);"
   ]
  },
  {
   "cell_type": "code",
   "execution_count": null,
   "metadata": {
    "colab": {
     "base_uri": "https://localhost:8080/"
    },
    "executionInfo": {
     "elapsed": 30688,
     "status": "ok",
     "timestamp": 1637267958919,
     "user": {
      "displayName": "Sim Clr",
      "photoUrl": "https://lh3.googleusercontent.com/a/default-user=s64",
      "userId": "09230613867822379570"
     },
     "user_tz": 480
    },
    "id": "e7d51882",
    "outputId": "f6046cd7-e827-45b9-d923-c98f831c2e4a"
   },
   "outputs": [],
   "source": [
    "fit(1e-4, 10);\n",
    "fit(5e-4, 5);\n",
    "fit(1e-4, 10);"
   ]
  },
  {
   "cell_type": "code",
   "execution_count": null,
   "metadata": {
    "colab": {
     "base_uri": "https://localhost:8080/"
    },
    "executionInfo": {
     "elapsed": 12217,
     "status": "ok",
     "timestamp": 1637267971127,
     "user": {
      "displayName": "Sim Clr",
      "photoUrl": "https://lh3.googleusercontent.com/a/default-user=s64",
      "userId": "09230613867822379570"
     },
     "user_tz": 480
    },
    "id": "4fa570da",
    "outputId": "a464cbec-ea11-4b2d-def5-20fb66874916",
    "scrolled": true
   },
   "outputs": [],
   "source": [
    "fit(1e-5, 10);\n",
    "# fit(5e-5, 5);\n",
    "# fit(1e-5, 10);"
   ]
  },
  {
   "cell_type": "code",
   "execution_count": 21,
   "metadata": {
    "colab": {
     "base_uri": "https://localhost:8080/"
    },
    "executionInfo": {
     "elapsed": 977,
     "status": "ok",
     "timestamp": 1637267983674,
     "user": {
      "displayName": "Sim Clr",
      "photoUrl": "https://lh3.googleusercontent.com/a/default-user=s64",
      "userId": "09230613867822379570"
     },
     "user_tz": 480
    },
    "id": "d123aa32",
    "outputId": "8fdb6db7-f17d-441f-e36b-5227e64dc14d"
   },
   "outputs": [
    {
     "name": "stdout",
     "output_type": "stream",
     "text": [
      "5/5 [==============================] - 1s 236ms/step - loss: 0.5500 - accuracy: 0.8523\n",
      "['loss', 'accuracy']\n"
     ]
    },
    {
     "data": {
      "text/plain": [
       "[0.5499760508537292, 0.8523274660110474]"
      ]
     },
     "execution_count": 21,
     "metadata": {},
     "output_type": "execute_result"
    }
   ],
   "source": [
    "# xray\n",
    "results = model.evaluate(ds_test_xy)\n",
    "print(model.metrics_names)\n",
    "results"
   ]
  },
  {
   "cell_type": "code",
   "execution_count": 22,
   "metadata": {
    "colab": {
     "base_uri": "https://localhost:8080/",
     "height": 294
    },
    "executionInfo": {
     "elapsed": 671,
     "status": "ok",
     "timestamp": 1637267988043,
     "user": {
      "displayName": "Sim Clr",
      "photoUrl": "https://lh3.googleusercontent.com/a/default-user=s64",
      "userId": "09230613867822379570"
     },
     "user_tz": 480
    },
    "id": "990fc5e3",
    "outputId": "51b5da9e-9b04-4059-f731-39ce577812ff"
   },
   "outputs": [
    {
     "data": {
      "image/png": "[encoded data removed]",
      "text/plain": [
       "<Figure size 864x288 with 2 Axes>"
      ]
     },
     "metadata": {
      "image/png": {
       "height": 277,
       "width": 706
      },
      "needs_background": "light"
     },
     "output_type": "display_data"
    }
   ],
   "source": [
    "plot_fit()"
   ]
  },
  {
   "cell_type": "code",
   "execution_count": 20,
   "metadata": {
    "executionInfo": {
     "elapsed": 7,
     "status": "ok",
     "timestamp": 1637267976585,
     "user": {
      "displayName": "Sim Clr",
      "photoUrl": "https://lh3.googleusercontent.com/a/default-user=s64",
      "userId": "09230613867822379570"
     },
     "user_tz": 480
    },
    "id": "MyUEIEUsCZe8"
   },
   "outputs": [],
   "source": []
  }
 ],
 "metadata": {
  "accelerator": "GPU",
  "colab": {
   "collapsed_sections": [],
   "name": "FSL_ResNet50_XrayReborn_5pc-2.ipynb",
   "provenance": []
  },
  "kernelspec": {
   "display_name": "Python 3 (ipykernel)",
   "language": "python",
   "name": "python3"
  },
  "language_info": {
   "codemirror_mode": {
    "name": "ipython",
    "version": 3
   },
   "file_extension": ".py",
   "mimetype": "text/x-python",
   "name": "python",
   "nbconvert_exporter": "python",
   "pygments_lexer": "ipython3",
   "version": "3.9.10"
  }
 },
 "nbformat": 4,
 "nbformat_minor": 1
}
