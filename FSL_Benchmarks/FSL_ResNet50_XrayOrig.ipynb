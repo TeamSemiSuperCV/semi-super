{
 "cells": [
  {
   "cell_type": "markdown",
   "metadata": {
    "id": "da6eb011"
   },
   "source": [
    "# Fully-Supervised Learning using ResNet50 on XRay_Orig Dataset"
   ]
  },
  {
   "cell_type": "code",
   "execution_count": null,
   "metadata": {
    "colab": {
     "base_uri": "https://localhost:8080/"
    },
    "executionInfo": {
     "elapsed": 76612,
     "status": "ok",
     "timestamp": 1637014324687,
     "user": {
      "displayName": "Wing Poon",
      "photoUrl": "https://lh3.googleusercontent.com/a/default-user=s64",
      "userId": "05678926181994855364"
     },
     "user_tz": 480
    },
    "id": "6131955e",
    "outputId": "cb74968f-1317-4bbd-fd5e-e35711a83809"
   },
   "outputs": [],
   "source": [
    "%config InlineBackend.figure_format='retina'\n",
    "COLAB = 'google.colab' in str(get_ipython())\n",
    "import tensorflow as tf\n",
    "import os\n",
    "if COLAB:\n",
    "    !nvidia-smi -L\n",
    "    from google.colab import drive\n",
    "    drive.mount('/content/drive')\n",
    "    ![ ! -f \"pip_installed\" ] && pip install -q tensorflow-datasets==4.4.0 && touch pip_installed\n",
    "    ![ ! -d \"/root/tensorflow_datasets\" ] &&  unzip -qq /content/drive/MyDrive/TeamSemiSuperCV/Wing/xray_orig.zip -d /root/tensorflow_datasets\n",
    "else:\n",
    "    os.environ['TF_CPP_MIN_LOG_LEVEL'] = '2'\n",
    "    os.environ[\"CUDA_VISIBLE_DEVICES\"] = '1'\n",
    "    print(tf.config.list_physical_devices('GPU'))"
   ]
  },
  {
   "cell_type": "code",
   "execution_count": 2,
   "metadata": {
    "executionInfo": {
     "elapsed": 357,
     "status": "ok",
     "timestamp": 1637014325037,
     "user": {
      "displayName": "Wing Poon",
      "photoUrl": "https://lh3.googleusercontent.com/a/default-user=s64",
      "userId": "05678926181994855364"
     },
     "user_tz": 480
    },
    "id": "32cc774b"
   },
   "outputs": [],
   "source": [
    "import numpy as np\n",
    "import matplotlib.pyplot as plt\n",
    "import tensorflow_datasets as tfds\n",
    "from collections import Counter\n",
    "from tensorflow.keras.models import Sequential\n",
    "from tensorflow.keras.layers import *\n",
    "from tensorflow.keras.optimizers import Adam\n",
    "from tensorflow.keras.losses import BinaryCrossentropy\n",
    "from tensorflow.keras.regularizers import l2\n",
    "from tensorflow.keras.metrics import Precision, Recall\n",
    "from tensorflow.keras.models import Model\n",
    "from tensorflow.keras.applications import ResNet50"
   ]
  },
  {
   "cell_type": "code",
   "execution_count": 3,
   "metadata": {
    "executionInfo": {
     "elapsed": 4,
     "status": "ok",
     "timestamp": 1637014325038,
     "user": {
      "displayName": "Wing Poon",
      "photoUrl": "https://lh3.googleusercontent.com/a/default-user=s64",
      "userId": "05678926181994855364"
     },
     "user_tz": 480
    },
    "id": "f41b1bab"
   },
   "outputs": [],
   "source": [
    "RAND_SEED = 42\n",
    "BATCH_SIZE = 128\n",
    "IMG_SIZE = (256, 256, 3)\n",
    "CLASS_WEIGHTS = {0: 0.6, 1: 0.4}\n",
    "SHUFFLE_SIZE = BATCH_SIZE * 10"
   ]
  },
  {
   "cell_type": "code",
   "execution_count": null,
   "metadata": {
    "colab": {
     "base_uri": "https://localhost:8080/"
    },
    "executionInfo": {
     "elapsed": 3458,
     "status": "ok",
     "timestamp": 1637014328493,
     "user": {
      "displayName": "Wing Poon",
      "photoUrl": "https://lh3.googleusercontent.com/a/default-user=s64",
      "userId": "05678926181994855364"
     },
     "user_tz": 480
    },
    "id": "92298f03",
    "outputId": "07eb4ce1-a00a-4781-eb60-e6de11e7dc19"
   },
   "outputs": [],
   "source": [
    "ds = tfds.load('xray_orig')\n",
    "ds_train = ds['train']\n",
    "ds_valid = ds['validation']\n",
    "ds_test = ds['test']\n",
    "ds_train.element_spec, ds_valid.element_spec, ds_test.element_spec"
   ]
  },
  {
   "cell_type": "code",
   "execution_count": 5,
   "metadata": {
    "colab": {
     "base_uri": "https://localhost:8080/"
    },
    "executionInfo": {
     "elapsed": 37,
     "status": "ok",
     "timestamp": 1637014328494,
     "user": {
      "displayName": "Wing Poon",
      "photoUrl": "https://lh3.googleusercontent.com/a/default-user=s64",
      "userId": "05678926181994855364"
     },
     "user_tz": 480
    },
    "id": "a152eefe",
    "outputId": "03788aa2-0fc8-4f98-ac70-9722d3d0064a"
   },
   "outputs": [
    {
     "data": {
      "text/plain": [
       "(4708, 524, 623)"
      ]
     },
     "execution_count": 5,
     "metadata": {},
     "output_type": "execute_result"
    }
   ],
   "source": [
    "len(ds_train), len(ds_valid), len(ds_test)"
   ]
  },
  {
   "cell_type": "code",
   "execution_count": 6,
   "metadata": {
    "colab": {
     "base_uri": "https://localhost:8080/",
     "height": 35
    },
    "executionInfo": {
     "elapsed": 23607,
     "status": "ok",
     "timestamp": 1637014352068,
     "user": {
      "displayName": "Wing Poon",
      "photoUrl": "https://lh3.googleusercontent.com/a/default-user=s64",
      "userId": "05678926181994855364"
     },
     "user_tz": 480
    },
    "id": "7d729856",
    "outputId": "d5f8796d-dfb2-430c-c4ba-0f5a789d1271"
   },
   "outputs": [
    {
     "data": {
      "application/vnd.google.colaboratory.intrinsic+json": {
       "type": "string"
      },
      "text/plain": [
       "\"Train: Counter({'1': 3504, '0': 1204}), Valid: Counter({'1': 379, '0': 145}), Test: Counter({'1': 389, '0': 234})\""
      ]
     },
     "execution_count": 6,
     "metadata": {},
     "output_type": "execute_result"
    }
   ],
   "source": [
    "cnt_train, cnt_valid, cnt_test = Counter(), Counter(), Counter()\n",
    "for ex in ds_train: cnt_train.update(str(ex['label'].numpy()))\n",
    "for ex in ds_valid: cnt_valid.update(str(ex['label'].numpy()))\n",
    "for ex in ds_test: cnt_test.update(str(ex['label'].numpy()))\n",
    "f'Train: {cnt_train}, Valid: {cnt_valid}, Test: {cnt_test}'"
   ]
  },
  {
   "cell_type": "code",
   "execution_count": null,
   "metadata": {
    "colab": {
     "base_uri": "https://localhost:8080/"
    },
    "executionInfo": {
     "elapsed": 24,
     "status": "ok",
     "timestamp": 1637014352069,
     "user": {
      "displayName": "Wing Poon",
      "photoUrl": "https://lh3.googleusercontent.com/a/default-user=s64",
      "userId": "05678926181994855364"
     },
     "user_tz": 480
    },
    "id": "e2dfe225",
    "outputId": "810021d4-aef4-4072-9688-f9d16123c01d"
   },
   "outputs": [],
   "source": [
    "ds_train_xy = ds_train.map(lambda d: (d['image'], d['label']))\n",
    "ds_valid_xy = ds_valid.map(lambda d: (d['image'], d['label']))\n",
    "ds_test_xy = ds_test.map(lambda d: (d['image'], d['label']))\n",
    "ds_train_xy.element_spec, ds_valid_xy.element_spec, ds_test_xy.element_spec"
   ]
  },
  {
   "cell_type": "code",
   "execution_count": 8,
   "metadata": {
    "executionInfo": {
     "elapsed": 19,
     "status": "ok",
     "timestamp": 1637014352070,
     "user": {
      "displayName": "Wing Poon",
      "photoUrl": "https://lh3.googleusercontent.com/a/default-user=s64",
      "userId": "05678926181994855364"
     },
     "user_tz": 480
    },
    "id": "43d1a896"
   },
   "outputs": [],
   "source": [
    "def img_preprocess(imgs):\n",
    "    imgs = tf.image.resize(imgs, IMG_SIZE[:2], method='bicubic')\n",
    "    return imgs"
   ]
  },
  {
   "cell_type": "code",
   "execution_count": 9,
   "metadata": {
    "executionInfo": {
     "elapsed": 19,
     "status": "ok",
     "timestamp": 1637014352070,
     "user": {
      "displayName": "Wing Poon",
      "photoUrl": "https://lh3.googleusercontent.com/a/default-user=s64",
      "userId": "05678926181994855364"
     },
     "user_tz": 480
    },
    "id": "d69e47cd"
   },
   "outputs": [],
   "source": [
    "def model_preprocess(x):\n",
    "    x = Rescaling(1/255)(x)\n",
    "    x = RandomFlip(\"horizontal\")(x)\n",
    "    x = RandomTranslation(0.15, 0.15, fill_mode='constant', fill_value=0.0)(x)\n",
    "    x = RandomZoom(0.1, fill_mode='constant', fill_value=0.0)(x)\n",
    "    x = RandomRotation(0.1, fill_mode='constant', fill_value=0.0)(x)\n",
    "    x = RandomContrast(0.15)(x)\n",
    "    return x"
   ]
  },
  {
   "cell_type": "code",
   "execution_count": null,
   "metadata": {
    "colab": {
     "base_uri": "https://localhost:8080/"
    },
    "executionInfo": {
     "elapsed": 19,
     "status": "ok",
     "timestamp": 1637014352071,
     "user": {
      "displayName": "Wing Poon",
      "photoUrl": "https://lh3.googleusercontent.com/a/default-user=s64",
      "userId": "05678926181994855364"
     },
     "user_tz": 480
    },
    "id": "241150ab",
    "outputId": "8bd80561-c2b3-4715-90b0-86953eb61f03"
   },
   "outputs": [],
   "source": [
    "ds_train_xy = ds_train_xy.prefetch(tf.data.AUTOTUNE)\n",
    "ds_train_xy = ds_train_xy.map(lambda x, y: (img_preprocess(x), y))\n",
    "ds_train_xy = ds_train_xy.shuffle(SHUFFLE_SIZE).batch(BATCH_SIZE).cache().prefetch(tf.data.AUTOTUNE)\n",
    "\n",
    "ds_valid_xy = ds_valid_xy.prefetch(tf.data.AUTOTUNE)\n",
    "ds_valid_xy = ds_valid_xy.map(lambda x, y: (img_preprocess(x), y))\n",
    "ds_valid_xy = ds_valid_xy.shuffle(SHUFFLE_SIZE).batch(BATCH_SIZE).cache().prefetch(tf.data.AUTOTUNE)\n",
    "\n",
    "ds_test_xy = ds_test_xy.prefetch(tf.data.AUTOTUNE)\n",
    "ds_test_xy = ds_test_xy.map(lambda x, y: (img_preprocess(x), y))\n",
    "ds_test_xy = ds_test_xy.shuffle(SHUFFLE_SIZE).batch(BATCH_SIZE).cache().prefetch(tf.data.AUTOTUNE)\n",
    "\n",
    "ds_train_xy.element_spec, ds_valid_xy.element_spec, ds_test_xy.element_spec"
   ]
  },
  {
   "cell_type": "code",
   "execution_count": 11,
   "metadata": {
    "executionInfo": {
     "elapsed": 14,
     "status": "ok",
     "timestamp": 1637014352071,
     "user": {
      "displayName": "Wing Poon",
      "photoUrl": "https://lh3.googleusercontent.com/a/default-user=s64",
      "userId": "05678926181994855364"
     },
     "user_tz": 480
    },
    "id": "98b85f92"
   },
   "outputs": [],
   "source": [
    "# This model uses ResNet50 as the backbone\n",
    "def make_model(input_shape):\n",
    "    initializer = 'glorot_normal'\n",
    "    \n",
    "    base_model = ResNet50(include_top=False, pooling='max', weights=\"imagenet\",\n",
    "                          input_shape=input_shape)\n",
    "    base_model.trainable = True\n",
    "\n",
    "    inputs = Input(shape=input_shape)\n",
    "    x = model_preprocess(inputs)\n",
    "    x = base_model(x)\n",
    "    x = Dropout(0.4)(x)\n",
    "    x = BatchNormalization()(x)\n",
    "    x = Dense(64, activation='relu', kernel_initializer=initializer,\n",
    "              kernel_regularizer=l2(1e-4))(x)\n",
    "    x = Dropout(0.4)(x)\n",
    "    x = BatchNormalization()(x)\n",
    "    outputs = Dense(1, activation='sigmoid', kernel_initializer=initializer,\n",
    "                    kernel_regularizer=l2(1e-4))(x)\n",
    "    \n",
    "    model = Model(inputs=inputs, outputs=outputs)\n",
    "    return model"
   ]
  },
  {
   "cell_type": "code",
   "execution_count": 12,
   "metadata": {
    "executionInfo": {
     "elapsed": 15,
     "status": "ok",
     "timestamp": 1637014352072,
     "user": {
      "displayName": "Wing Poon",
      "photoUrl": "https://lh3.googleusercontent.com/a/default-user=s64",
      "userId": "05678926181994855364"
     },
     "user_tz": 480
    },
    "id": "553034d9"
   },
   "outputs": [],
   "source": [
    "from collections import defaultdict\n",
    "\n",
    "# Fit <model> using <optimizer> and <class_weight>\n",
    "# while accumulating histories\n",
    "def fit(learning_rate, epochs, reset_hist=False):\n",
    "    if reset_hist:\n",
    "        fit.history = defaultdict(lambda: [])\n",
    "    \n",
    "    optimizer.lr.assign(learning_rate)\n",
    "    history = model.fit(ds_train_xy, validation_data=ds_valid_xy,\n",
    "                        class_weight=CLASS_WEIGHTS, verbose=2,\n",
    "                        epochs=epochs)\n",
    "    for metric, values in history.history.items():\n",
    "        fit.history[metric].extend(values)\n",
    "    return history"
   ]
  },
  {
   "cell_type": "code",
   "execution_count": 13,
   "metadata": {
    "executionInfo": {
     "elapsed": 326,
     "status": "ok",
     "timestamp": 1637014352384,
     "user": {
      "displayName": "Wing Poon",
      "photoUrl": "https://lh3.googleusercontent.com/a/default-user=s64",
      "userId": "05678926181994855364"
     },
     "user_tz": 480
    },
    "id": "02baaee6"
   },
   "outputs": [],
   "source": [
    "# Plot Training-vs-Validation Metrics\n",
    "def plot_fit():\n",
    "    # first two log entries will be skipped to not skew y-scale\n",
    "    plt.figure(figsize=(12, 4))\n",
    "    ax = plt.subplot(1, 2, 1)\n",
    "    ax.set_xlabel('Epochs')\n",
    "    ax.set_title('Training Loss, Validation Loss');\n",
    "    ax.plot(fit.history['loss'][2:], label='Train')\n",
    "    ax.plot(fit.history['val_loss'][2:], label='Valid')\n",
    "    ax.set_ylim([0, 0.5])\n",
    "    ax.legend()\n",
    "    \n",
    "    ax = plt.subplot(1, 2, 2)\n",
    "    ax.set_xlabel('Epochs')\n",
    "    ax.set_title('Training Accuracy, Validation Accuracy');\n",
    "    ax.plot(fit.history['accuracy'][2:], label='Train')\n",
    "    ax.plot(fit.history['val_accuracy'][2:], label='Valid')\n",
    "    ax.set_ylim([0.7, 1.0])\n",
    "    ax.legend()"
   ]
  },
  {
   "cell_type": "code",
   "execution_count": 14,
   "metadata": {
    "colab": {
     "base_uri": "https://localhost:8080/"
    },
    "executionInfo": {
     "elapsed": 2756,
     "status": "ok",
     "timestamp": 1637014355138,
     "user": {
      "displayName": "Wing Poon",
      "photoUrl": "https://lh3.googleusercontent.com/a/default-user=s64",
      "userId": "05678926181994855364"
     },
     "user_tz": 480
    },
    "id": "382d07fb",
    "outputId": "8437352f-1c2d-4bdd-b304-bea5df7b7ae3"
   },
   "outputs": [
    {
     "name": "stdout",
     "output_type": "stream",
     "text": [
      "Downloading data from https://storage.googleapis.com/tensorflow/keras-applications/resnet/resnet50_weights_tf_dim_ordering_tf_kernels_notop.h5\n",
      "94773248/94765736 [==============================] - 0s 0us/step\n",
      "94781440/94765736 [==============================] - 0s 0us/step\n",
      "Model: \"model\"\n",
      "_________________________________________________________________\n",
      " Layer (type)                Output Shape              Param #   \n",
      "=================================================================\n",
      " input_2 (InputLayer)        [(None, 256, 256, 3)]     0         \n",
      "                                                                 \n",
      " rescaling (Rescaling)       (None, 256, 256, 3)       0         \n",
      "                                                                 \n",
      " random_flip (RandomFlip)    (None, 256, 256, 3)       0         \n",
      "                                                                 \n",
      " random_translation (RandomT  (None, 256, 256, 3)      0         \n",
      " ranslation)                                                     \n",
      "                                                                 \n",
      " random_zoom (RandomZoom)    (None, 256, 256, 3)       0         \n",
      "                                                                 \n",
      " random_rotation (RandomRota  (None, 256, 256, 3)      0         \n",
      " tion)                                                           \n",
      "                                                                 \n",
      " random_contrast (RandomCont  (None, 256, 256, 3)      0         \n",
      " rast)                                                           \n",
      "                                                                 \n",
      " resnet50 (Functional)       (None, 2048)              23587712  \n",
      "                                                                 \n",
      " dropout (Dropout)           (None, 2048)              0         \n",
      "                                                                 \n",
      " batch_normalization (BatchN  (None, 2048)             8192      \n",
      " ormalization)                                                   \n",
      "                                                                 \n",
      " dense (Dense)               (None, 64)                131136    \n",
      "                                                                 \n",
      " dropout_1 (Dropout)         (None, 64)                0         \n",
      "                                                                 \n",
      " batch_normalization_1 (Batc  (None, 64)               256       \n",
      " hNormalization)                                                 \n",
      "                                                                 \n",
      " dense_1 (Dense)             (None, 1)                 65        \n",
      "                                                                 \n",
      "=================================================================\n",
      "Total params: 23,727,361\n",
      "Trainable params: 23,670,017\n",
      "Non-trainable params: 57,344\n",
      "_________________________________________________________________\n"
     ]
    }
   ],
   "source": [
    "tf.keras.backend.clear_session()\n",
    "\n",
    "model = make_model(IMG_SIZE)\n",
    "optimizer = Adam()\n",
    "model.compile(loss=BinaryCrossentropy(from_logits=False, label_smoothing=0.1),\n",
    "              optimizer=optimizer,\n",
    "              metrics=['accuracy'])\n",
    "model.summary()"
   ]
  },
  {
   "cell_type": "code",
   "execution_count": null,
   "metadata": {
    "colab": {
     "base_uri": "https://localhost:8080/"
    },
    "executionInfo": {
     "elapsed": 1020873,
     "status": "ok",
     "timestamp": 1637015376003,
     "user": {
      "displayName": "Wing Poon",
      "photoUrl": "https://lh3.googleusercontent.com/a/default-user=s64",
      "userId": "05678926181994855364"
     },
     "user_tz": 480
    },
    "id": "08013914",
    "outputId": "df34f38b-27c0-41bf-a16f-a0fd9ad3c7cd",
    "scrolled": false
   },
   "outputs": [],
   "source": [
    "fit(1e-5, 5, reset_hist=True);\n",
    "fit(1e-4, 5);\n",
    "fit(1e-3, 15);"
   ]
  },
  {
   "cell_type": "code",
   "execution_count": null,
   "metadata": {
    "colab": {
     "base_uri": "https://localhost:8080/"
    },
    "executionInfo": {
     "elapsed": 797178,
     "status": "ok",
     "timestamp": 1637016173165,
     "user": {
      "displayName": "Wing Poon",
      "photoUrl": "https://lh3.googleusercontent.com/a/default-user=s64",
      "userId": "05678926181994855364"
     },
     "user_tz": 480
    },
    "id": "dc80b23d",
    "outputId": "c0c66c77-4909-4034-9f3a-3697e9dc8f6b",
    "scrolled": false
   },
   "outputs": [],
   "source": [
    "fit(1e-5, 5);\n",
    "fit(1e-4, 5);\n",
    "fit(1e-3, 10);"
   ]
  },
  {
   "cell_type": "code",
   "execution_count": null,
   "metadata": {
    "colab": {
     "base_uri": "https://localhost:8080/"
    },
    "executionInfo": {
     "elapsed": 1024088,
     "status": "ok",
     "timestamp": 1637017197250,
     "user": {
      "displayName": "Wing Poon",
      "photoUrl": "https://lh3.googleusercontent.com/a/default-user=s64",
      "userId": "05678926181994855364"
     },
     "user_tz": 480
    },
    "id": "e7d51882",
    "outputId": "200eb207-1609-48cf-f0b4-f4d236660655"
   },
   "outputs": [],
   "source": [
    "fit(1e-4, 10); #15);\n",
    "fit(5e-4, 5);\n",
    "fit(1e-4, 10); #15);"
   ]
  },
  {
   "cell_type": "code",
   "execution_count": null,
   "metadata": {
    "colab": {
     "base_uri": "https://localhost:8080/"
    },
    "executionInfo": {
     "elapsed": 1013229,
     "status": "ok",
     "timestamp": 1637018210471,
     "user": {
      "displayName": "Wing Poon",
      "photoUrl": "https://lh3.googleusercontent.com/a/default-user=s64",
      "userId": "05678926181994855364"
     },
     "user_tz": 480
    },
    "id": "4fa570da",
    "outputId": "dbc98f94-bd4b-4221-8e47-dd9d972c6fa1",
    "scrolled": true
   },
   "outputs": [],
   "source": [
    "fit(1e-5, 10); #15);\n",
    "fit(5e-5, 5);\n",
    "fit(1e-5, 10); #15);"
   ]
  },
  {
   "cell_type": "code",
   "execution_count": null,
   "metadata": {
    "colab": {
     "base_uri": "https://localhost:8080/"
    },
    "executionInfo": {
     "elapsed": 458531,
     "status": "ok",
     "timestamp": 1637018668995,
     "user": {
      "displayName": "Wing Poon",
      "photoUrl": "https://lh3.googleusercontent.com/a/default-user=s64",
      "userId": "05678926181994855364"
     },
     "user_tz": 480
    },
    "id": "7672af6e",
    "outputId": "deebfd59-655d-44ce-8131-a65e33c5eebd"
   },
   "outputs": [],
   "source": [
    "fit(1e-6, 5);\n",
    "fit(5e-6, 2);\n",
    "fit(1e-6, 5);"
   ]
  },
  {
   "cell_type": "code",
   "execution_count": 20,
   "metadata": {
    "colab": {
     "base_uri": "https://localhost:8080/"
    },
    "executionInfo": {
     "elapsed": 10252,
     "status": "ok",
     "timestamp": 1637018679241,
     "user": {
      "displayName": "Wing Poon",
      "photoUrl": "https://lh3.googleusercontent.com/a/default-user=s64",
      "userId": "05678926181994855364"
     },
     "user_tz": 480
    },
    "id": "d123aa32",
    "outputId": "f6928f5f-16c5-4953-c10e-c3c05bfb5b5b"
   },
   "outputs": [
    {
     "name": "stdout",
     "output_type": "stream",
     "text": [
      "5/5 [==============================] - 5s 379ms/step - loss: 0.4021 - accuracy: 0.9021\n",
      "['loss', 'accuracy']\n"
     ]
    },
    {
     "data": {
      "text/plain": [
       "[0.40208086371421814, 0.9020866751670837]"
      ]
     },
     "execution_count": 20,
     "metadata": {},
     "output_type": "execute_result"
    }
   ],
   "source": [
    "# xray\n",
    "results = model.evaluate(ds_test_xy)\n",
    "print(model.metrics_names)\n",
    "results"
   ]
  },
  {
   "cell_type": "code",
   "execution_count": 21,
   "metadata": {
    "colab": {
     "base_uri": "https://localhost:8080/",
     "height": 294
    },
    "executionInfo": {
     "elapsed": 1210,
     "status": "ok",
     "timestamp": 1637018680437,
     "user": {
      "displayName": "Wing Poon",
      "photoUrl": "https://lh3.googleusercontent.com/a/default-user=s64",
      "userId": "05678926181994855364"
     },
     "user_tz": 480
    },
    "id": "990fc5e3",
    "outputId": "59824698-fd7e-4032-fbec-f49b7de550e7"
   },
   "outputs": [
    {
     "data": {
      "image/png": "[encoded data removed]",
      "text/plain": [
       "<Figure size 864x288 with 2 Axes>"
      ]
     },
     "metadata": {
      "image/png": {
       "height": 277,
       "width": 706
      },
      "needs_background": "light"
     },
     "output_type": "display_data"
    }
   ],
   "source": [
    "plot_fit()"
   ]
  },
  {
   "cell_type": "code",
   "execution_count": 23,
   "metadata": {
    "executionInfo": {
     "elapsed": 730,
     "status": "ok",
     "timestamp": 1637018973810,
     "user": {
      "displayName": "Wing Poon",
      "photoUrl": "https://lh3.googleusercontent.com/a/default-user=s64",
      "userId": "05678926181994855364"
     },
     "user_tz": 480
    },
    "id": "09537479"
   },
   "outputs": [],
   "source": [
    "model.save_weights('/content/drive/MyDrive/TeamSemiSuperCV/Wing/FSL_Benchmarks/FSL_ResNet50_XrayOrig.h5')"
   ]
  }
 ],
 "metadata": {
  "accelerator": "GPU",
  "colab": {
   "collapsed_sections": [],
   "name": "FSL_ResNet50_XrayOrig.ipynb",
   "provenance": []
  },
  "kernelspec": {
   "display_name": "Python 3 (ipykernel)",
   "language": "python",
   "name": "python3"
  },
  "language_info": {
   "codemirror_mode": {
    "name": "ipython",
    "version": 3
   },
   "file_extension": ".py",
   "mimetype": "text/x-python",
   "name": "python",
   "nbconvert_exporter": "python",
   "pygments_lexer": "ipython3",
   "version": "3.9.10"
  }
 },
 "nbformat": 4,
 "nbformat_minor": 1
}
