{
 "cells": [
  {
   "cell_type": "markdown",
   "metadata": {},
   "source": [
    "# Active Learning (Labeling Selection) using Entropy"
   ]
  },
  {
   "cell_type": "code",
   "execution_count": null,
   "metadata": {
    "id": "firhzasTl2mP"
   },
   "outputs": [],
   "source": [
    "BASE_PATH = '/content/'\n",
    "MODEL_FNAME = 'model_stage1'\n",
    "ANNOTATIONS_FNAME = 'annotations.txt'\n",
    "NUM_ANNOTATE = 52\n",
    "FROM_STAGE1 = True"
   ]
  },
  {
   "cell_type": "code",
   "execution_count": null,
   "metadata": {
    "colab": {
     "base_uri": "https://localhost:8080/"
    },
    "executionInfo": {
     "elapsed": 5,
     "status": "ok",
     "timestamp": 1648636956011,
     "user": {
      "displayName": "Wing Poon",
      "userId": "05678926181994855364"
     },
     "user_tz": 420
    },
    "id": "ByBTkybeJrbJ",
    "outputId": "160a1797-b17c-44c7-8e3d-8913e6146c90"
   },
   "outputs": [],
   "source": [
    "![ ! -f \"pip_installed\" ] && \\\n",
    "pip install -q tensorflow-datasets==4.4.0 tensorflow-addons && \\\n",
    "unzip -qq /content/drive/MyDrive/TeamSemiSuperCV/Wing/xray_reborn.zip -d /root/tensorflow_datasets && \\\n",
    "unzip -qq /content/drive/MyDrive/TeamSemiSuperCV/Wing/XRay_.zip -d /content && \\\n",
    "unzip -qq /content/drive/MyDrive/TeamSemiSuperCV/Active_Learn/$MODEL_FNAME\\.zip -d /content/$MODEL_FNAME && \\\n",
    "cp /content/drive/MyDrive/TeamSemiSuperCV/Active_Learn/preprocess.py /content && \\\n",
    "cp /content/drive/MyDrive/TeamSemiSuperCV/Active_Learn/Xray_Reborn.py /content && \\\n",
    "cp /content/drive/MyDrive/TeamSemiSuperCV/Active_Learn/valid.txt /content && \\\n",
    "cp /content/drive/MyDrive/TeamSemiSuperCV/Active_Learn/test.txt /content && \\\n",
    "cp /content/drive/MyDrive/TeamSemiSuperCV/Active_Learn/$ANNOTATIONS_FNAME /content && \\\n",
    "git clone --depth 1 https://github.com/TeamSemiSuperCV/semi-super.git /content/semi-super && \\\n",
    "touch pip_installed\n",
    "!ls -F"
   ]
  },
  {
   "cell_type": "code",
   "execution_count": null,
   "metadata": {
    "id": "bLcBMPG1rcX-"
   },
   "outputs": [],
   "source": [
    "import os\n",
    "os.environ['TF_CPP_MIN_LOG_LEVEL'] = '3'\n",
    "import logging\n",
    "logging.disable(logging.WARNING)"
   ]
  },
  {
   "cell_type": "code",
   "execution_count": null,
   "metadata": {
    "id": "a6b67b69"
   },
   "outputs": [],
   "source": [
    "import json\n",
    "\n",
    "import tensorflow as tf\n",
    "import tensorflow_datasets as tfds\n",
    "import matplotlib.pyplot as plt\n",
    "import numpy as np\n",
    "\n",
    "from importlib import reload\n",
    "from pathlib import Path\n",
    "from scipy.stats import entropy\n",
    "from scipy.special import softmax\n",
    "\n",
    "from preprocess import dict2dict, IMG_SIZE\n",
    "import Xray_Reborn"
   ]
  },
  {
   "cell_type": "code",
   "execution_count": null,
   "metadata": {
    "colab": {
     "base_uri": "https://localhost:8080/",
     "height": 35
    },
    "executionInfo": {
     "elapsed": 7,
     "status": "ok",
     "timestamp": 1648636960080,
     "user": {
      "displayName": "Wing Poon",
      "userId": "05678926181994855364"
     },
     "user_tz": 420
    },
    "id": "MX2dRp1FC2Ik",
    "outputId": "34d3e9a5-e0e4-4837-d678-e63f0489cfce"
   },
   "outputs": [],
   "source": [
    "model_path = Path(BASE_PATH + MODEL_FNAME)\n",
    "if (model_path / 'saved_model.pb').exists():\n",
    "  model_path = str(model_path)\n",
    "else:\n",
    "  model_path = str([p.parent for p in model_path.glob('*/*/assets') if p.is_dir()][0])\n",
    "model_path"
   ]
  },
  {
   "cell_type": "markdown",
   "metadata": {
    "id": "RaFccABYG91H"
   },
   "source": [
    "## Labeling Selection"
   ]
  },
  {
   "cell_type": "code",
   "execution_count": null,
   "metadata": {
    "id": "0e26bb2e"
   },
   "outputs": [],
   "source": [
    "ds = tfds.load('xray_reborn')\n",
    "\n",
    "ds_train = ds['train']\n",
    "AUTO = tf.data.AUTOTUNE\n",
    "ds_train = ds_train.map(dict2dict, num_parallel_calls=AUTO)\n",
    "ds_train = ds_train.batch(64).prefetch(AUTO)"
   ]
  },
  {
   "cell_type": "code",
   "execution_count": null,
   "metadata": {
    "id": "4bb75c71"
   },
   "outputs": [],
   "source": [
    "model = tf.saved_model.load(model_path)"
   ]
  },
  {
   "cell_type": "code",
   "execution_count": null,
   "metadata": {
    "id": "6da32daa"
   },
   "outputs": [],
   "source": [
    "# ['block_group1', 'block_group3', 'block_group2', 'initial_conv', 'final_avg_pool', 'block_group4',\n",
    "#  'sup_head_input', 'proj_head_output', 'proj_head_input', 'initial_max_pool', 'logits_sup'])\n",
    "feats = {'shi': [], 'lsp': [], 'phi': []}\n",
    "labels = []\n",
    "fnames = []\n",
    "\n",
    "for batch in ds_train:\n",
    "    outputs = model(batch['image'], trainable=False)\n",
    "    feats['shi'].append(outputs['sup_head_input'].numpy())\n",
    "    feats['lsp'].append(outputs['logits_sup'].numpy())\n",
    "    feats['phi'].append(outputs['proj_head_input'].numpy())\n",
    "    labels.append(batch['label'].numpy())\n",
    "    fnames.append(batch['fname'].numpy())\n",
    "\n",
    "for key in feats:\n",
    "    feats[key] = np.concatenate(feats[key])\n",
    "labels = np.concatenate(labels)\n",
    "fnames = np.concatenate(fnames)\n",
    "fnames = [bs.decode('utf-8') for bs in fnames]\n",
    "feats['shi'].shape, feats['lsp'].shape, feats['phi'].shape, labels.shape, len(fnames)"
   ]
  },
  {
   "cell_type": "code",
   "execution_count": null,
   "metadata": {
    "id": "5dbZQc9O1FJL"
   },
   "outputs": [],
   "source": [
    "def get_entropy(feats):\n",
    "  ent_sorted = {}\n",
    "  feats_names = feats.keys()\n",
    "  for key in feats.keys():\n",
    "    ent = entropy(softmax(feats[key], axis=1) if key == 'lsp' else feats[key],\n",
    "                  axis=1)\n",
    "    ent_lbl_fname = list(zip(ent, labels, fnames))\n",
    "    ent_lbl_fname.sort(key=lambda x: x[0], reverse=True)\n",
    "    num_ones = sum(l for _, l, _ in ent_lbl_fname[:NUM_ANNOTATE])\n",
    "    print(f'{key}: {num_ones}, {ent.max():.3f}, {ent.min():.3f}, {ent.mean():.3f}')\n",
    "    ent_sorted[key] = [f.strip() for _, _, f in ent_lbl_fname]\n",
    "  return ent_sorted\n",
    "\n",
    "ent_sorted = get_entropy(feats)"
   ]
  },
  {
   "cell_type": "code",
   "execution_count": null,
   "metadata": {
    "id": "v5y6CJoRU96a"
   },
   "outputs": [],
   "source": [
    "if FROM_STAGE1:\n",
    "  # ds_train_1pc = ds['train_1pc']\n",
    "  # annotations = {d['fname'].numpy().decode('utf-8') for d in ds_train_1pc}\n",
    "  annotations = set() \n",
    "elif os.path.isfile(ANNOTATIONS_FNAME):\n",
    "  print(ANNOTATIONS_FNAME)\n",
    "  with open(ANNOTATIONS_FNAME) as f:\n",
    "    annotations = set()\n",
    "    for line in f:\n",
    "      fname = line.strip()\n",
    "      if fname: annotations.add(fname)\n",
    "else:\n",
    "  print(f'{ANNOTATIONS_FNAME} not found!')\n",
    "  \n",
    "len(annotations)"
   ]
  },
  {
   "cell_type": "code",
   "execution_count": null,
   "metadata": {
    "id": "83db3872"
   },
   "outputs": [],
   "source": [
    "selected_feat = 'shi' if FROM_STAGE1 else 'lsp'\n",
    "selected = ent_sorted[selected_feat]\n",
    "annotate_new = set(selected[:NUM_ANNOTATE])\n",
    "annotate_thresh = NUM_ANNOTATE\n",
    "target_annotations = len(annotations) + NUM_ANNOTATE\n",
    "annotate_new |= annotations\n",
    "\n",
    "while len(annotate_new) < target_annotations:\n",
    "  annotate_thresh += 1\n",
    "  annotate_new.add(selected[annotate_thresh])\n",
    "  print('!', end='')\n",
    "print()\n",
    "len(annotate_new)"
   ]
  },
  {
   "cell_type": "code",
   "execution_count": null,
   "metadata": {
    "id": "WoMZjImHjmaM"
   },
   "outputs": [],
   "source": [
    "with open('annotations.txt', 'w') as f:\n",
    "    for fname in annotate_new:\n",
    "        print(fname, file=f)\n",
    "!wc -l annotations.txt"
   ]
  },
  {
   "cell_type": "markdown",
   "metadata": {
    "id": "NrDFx4qPtg9o"
   },
   "source": [
    "## Generate New Dataset"
   ]
  },
  {
   "cell_type": "code",
   "execution_count": null,
   "metadata": {
    "id": "TfCUNKQhz5Q4"
   },
   "outputs": [],
   "source": [
    "# reload(Xray_Reborn)\n",
    "!rm -rf {BASE_PATH + 'xray_reborn'}\n",
    "ds = tfds.load('XrayReborn', data_dir=BASE_PATH)  # will re-generate TFDS dataset\n",
    "len(ds['train_act']), len(ds['validation']), len(ds['test'])"
   ]
  },
  {
   "cell_type": "markdown",
   "metadata": {
    "id": "p0_mbJoV-ZP_"
   },
   "source": [
    "## Stage 2 Fine-Tuning"
   ]
  },
  {
   "cell_type": "code",
   "execution_count": null,
   "metadata": {
    "colab": {
     "base_uri": "https://localhost:8080/"
    },
    "executionInfo": {
     "elapsed": 265,
     "status": "ok",
     "timestamp": 1648636968655,
     "user": {
      "displayName": "Wing Poon",
      "userId": "05678926181994855364"
     },
     "user_tz": 420
    },
    "id": "gNfgCqPFOD3H",
    "outputId": "9e1ffb52-b504-4c02-f5b9-60a6f89bd2d3"
   },
   "outputs": [],
   "source": [
    "wc_annotations = !wc -l annotations.txt\n",
    "len_annotations = int(wc_annotations[0].split()[0])\n",
    "len_annotations"
   ]
  },
  {
   "cell_type": "code",
   "execution_count": null,
   "metadata": {
    "id": "FHaf6iQPEb0c"
   },
   "outputs": [],
   "source": [
    "class simclrCommand():\n",
    "  def __init__(self, params):\n",
    "    self.params = params\n",
    "\n",
    "  def compile_command(self):\n",
    "    simclr_command = ['python3 /content/semi-super/run.py']\n",
    "    for k,v in self.params.items():\n",
    "      simclr_command.append(f'--{k}={v}')\n",
    "    return (\" \").join(simclr_command)\n",
    "\n",
    "  def run_command(self):\n",
    "    !{self.compile_command()}"
   ]
  },
  {
   "cell_type": "code",
   "execution_count": null,
   "metadata": {
    "id": "UYAVgxM1HkFF"
   },
   "outputs": [],
   "source": [
    "params = {\n",
    "    # Dataset\n",
    "    'dataset': \"xray_reborn\",\n",
    "\n",
    "    # Training Logistics\n",
    "    'train_mode': \"finetune\", \n",
    "    \"mode\": \"train_then_eval\",\n",
    "    'train_split': 'train_act',\n",
    "    'eval_split': \"validation\", \n",
    "    'checkpoint_epochs': 20,\n",
    "    \"save_only_last_ckpt\": True,\n",
    "    \"eval_per_loop\": False,\n",
    "    'zero_init_logits_layer': False,\n",
    "    \"use_tpu\": False,\n",
    "\n",
    "    # Training Hyperparams\n",
    "    'warmup_epochs': 0,\n",
    "    \"train_epochs\": 60,\n",
    "    'fine_tune_after_block': 3,\n",
    "    \"train_batch_size\": 14,\n",
    "    \"learning_rate\": 0.0005, \n",
    "    \"learning_rate_scaling\": 'sqrt',\n",
    "    'weight_decay': 0.001, \n",
    "    \"temperature\": 0.1,\n",
    "\n",
    "    # Architecture\n",
    "    \"image_size\": 224,   \n",
    "    \"resnet_depth\": 50,\n",
    "    \"width_multiplier\": 2,\n",
    "    \"sk_ratio\":0.0625,  \n",
    "\n",
    "    # Augmentations\n",
    "    \"color_jitter_strength\": 0.5,\n",
    "    \"use_blur\": False, \n",
    "    \"area_range_min\": 1.0,\n",
    "\n",
    "    # Static\n",
    "    \"data_dir\": '/content/',\n",
    "    }\n",
    "\n",
    "if FROM_STAGE1:\n",
    "  params['zero_init_logits_layer'] = True\n",
    "slimsk2 = simclrCommand(params)"
   ]
  },
  {
   "cell_type": "code",
   "execution_count": null,
   "metadata": {
    "id": "7Q7kGSD1LFDd"
   },
   "outputs": [],
   "source": [
    "# 1st Fine-Tuning /w Validation Split Results\n",
    "def FT1(run, rerun=False):\n",
    "  model_ft_name = f'model_{len_annotations}-{run}'\n",
    "  global model_ft_path\n",
    "  model_ft_path = BASE_PATH + model_ft_name\n",
    "  if not rerun:\n",
    "    !rm -rf $model_ft_path\n",
    "    assert not os.path.isdir(model_ft_path)\n",
    "\n",
    "  slimsk2.params['mode'] = 'train_then_eval'\n",
    "  slimsk2.params['checkpoint'] = model_path\n",
    "  slimsk2.params['model_dir'] = model_ft_path\n",
    "  slimsk2.run_command()"
   ]
  },
  {
   "cell_type": "code",
   "execution_count": null,
   "metadata": {
    "id": "exTiaFF2LPbd"
   },
   "outputs": [],
   "source": [
    "# 2nd (Follow-on) Fine-Tuning /w Validation Split Results\n",
    "def FT2(run, rerun=False):\n",
    "  model_ft_name = f'model_{len_annotations}-{run}'\n",
    "  model_ft_path = BASE_PATH + model_ft_name\n",
    "  model_ft_path_sm = str([p.parent for p in Path(model_ft_path).glob('*/*/assets') if p.is_dir()][0])\n",
    "  global model_ft2_path\n",
    "  model_ft2_path = model_ft_path + '+'\n",
    "  if not rerun:\n",
    "    !rm -rf $model_ft2_path\n",
    "    assert not os.path.isdir(model_ft2_path)\n",
    "\n",
    "  slimsk2.params['mode'] = 'train_then_eval'\n",
    "  slimsk2.params['checkpoint'] = model_ft_path_sm\n",
    "  slimsk2.params['model_dir'] = model_ft2_path\n",
    "  slimsk2.run_command()"
   ]
  },
  {
   "cell_type": "code",
   "execution_count": null,
   "metadata": {
    "colab": {
     "base_uri": "https://localhost:8080/"
    },
    "executionInfo": {
     "elapsed": 162428,
     "status": "ok",
     "timestamp": 1648637138041,
     "user": {
      "displayName": "Wing Poon",
      "userId": "05678926181994855364"
     },
     "user_tz": 420
    },
    "id": "Ivad9UKFMfTy",
    "outputId": "5c884325-fc5d-414b-eabc-abd0bc50abd7"
   },
   "outputs": [],
   "source": [
    "FT1(1) # Run #1"
   ]
  },
  {
   "cell_type": "code",
   "execution_count": null,
   "metadata": {
    "colab": {
     "base_uri": "https://localhost:8080/"
    },
    "executionInfo": {
     "elapsed": 162475,
     "status": "ok",
     "timestamp": 1648637380332,
     "user": {
      "displayName": "Wing Poon",
      "userId": "05678926181994855364"
     },
     "user_tz": 420
    },
    "id": "nMXUFPg1MkNZ",
    "outputId": "0792c986-c9f1-460e-b82b-45b3bb177eb7"
   },
   "outputs": [],
   "source": [
    "FT1(2) # Run #2"
   ]
  },
  {
   "cell_type": "code",
   "execution_count": null,
   "metadata": {
    "colab": {
     "base_uri": "https://localhost:8080/"
    },
    "executionInfo": {
     "elapsed": 239206,
     "status": "ok",
     "timestamp": 1648637625312,
     "user": {
      "displayName": "Wing Poon",
      "userId": "05678926181994855364"
     },
     "user_tz": 420
    },
    "id": "ewtP3L62MqU7",
    "outputId": "279f2c05-9086-4b6d-9950-3a8877962fde"
   },
   "outputs": [],
   "source": [
    "FT1(3) # Run #3"
   ]
  },
  {
   "cell_type": "code",
   "execution_count": null,
   "metadata": {
    "colab": {
     "base_uri": "https://localhost:8080/"
    },
    "executionInfo": {
     "elapsed": 166986,
     "status": "ok",
     "timestamp": 1648637792284,
     "user": {
      "displayName": "Wing Poon",
      "userId": "05678926181994855364"
     },
     "user_tz": 420
    },
    "id": "V2Bx7m5qMtg4",
    "outputId": "0381cc16-bb0e-4fe8-c180-1be9c533fc7f"
   },
   "outputs": [],
   "source": [
    "FT1(4) # Run #4"
   ]
  },
  {
   "cell_type": "code",
   "execution_count": null,
   "metadata": {
    "colab": {
     "base_uri": "https://localhost:8080/"
    },
    "executionInfo": {
     "elapsed": 351,
     "status": "ok",
     "timestamp": 1648637848220,
     "user": {
      "displayName": "Wing Poon",
      "userId": "05678926181994855364"
     },
     "user_tz": 420
    },
    "id": "XxWpB0ayciBE",
    "outputId": "b3f4dead-dd12-4fde-d051-986638cbf70f"
   },
   "outputs": [],
   "source": [
    "# Average Validation Accuracy based on 4 Runs\n",
    "avg_eval_accuracy = np.mean([0.956107, 0.956107, 0.948473, 0.948473])\n",
    "avg_eval_accuracy"
   ]
  },
  {
   "cell_type": "code",
   "execution_count": null,
   "metadata": {
    "id": "Zi8ARQleeSd1"
   },
   "outputs": [],
   "source": []
  }
 ],
 "metadata": {
  "accelerator": "GPU",
  "colab": {
   "authorship_tag": "ABX9TyORTPvu8qPiVJDk8/Zvhiju",
   "collapsed_sections": [],
   "mount_file_id": "1kUEWy8LELGrqJiaTvAKacpNbxwl4M46-",
   "name": "AL_Entropy.ipynb",
   "provenance": []
  },
  "kernelspec": {
   "display_name": "Python 3 (ipykernel)",
   "language": "python",
   "name": "python3"
  },
  "language_info": {
   "codemirror_mode": {
    "name": "ipython",
    "version": 3
   },
   "file_extension": ".py",
   "mimetype": "text/x-python",
   "name": "python",
   "nbconvert_exporter": "python",
   "pygments_lexer": "ipython3",
   "version": "3.9.10"
  }
 },
 "nbformat": 4,
 "nbformat_minor": 1
}
