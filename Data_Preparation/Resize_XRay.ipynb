{
 "cells": [
  {
   "cell_type": "markdown",
   "id": "15bd1b87",
   "metadata": {},
   "source": [
    "# Crop & Resize Extreme Images to Make Dataset More Uniform"
   ]
  },
  {
   "cell_type": "code",
   "execution_count": 1,
   "id": "7d2b2bbf",
   "metadata": {},
   "outputs": [],
   "source": [
    "import os\n",
    "import numpy as np\n",
    "import matplotlib.pyplot as plt\n",
    "from collections import Counter"
   ]
  },
  {
   "cell_type": "code",
   "execution_count": 2,
   "id": "bb7b6f34",
   "metadata": {},
   "outputs": [
    {
     "data": {
      "text/plain": [
       "[PhysicalDevice(name='/physical_device:GPU:0', device_type='GPU')]"
      ]
     },
     "execution_count": 2,
     "metadata": {},
     "output_type": "execute_result"
    }
   ],
   "source": [
    "os.environ['TF_CPP_MIN_LOG_LEVEL'] = '2'\n",
    "os.environ['CUDA_VISIBLE_DEVICES'] = '1'\n",
    "import tensorflow as tf\n",
    "tf.config.list_physical_devices('GPU')"
   ]
  },
  {
   "cell_type": "code",
   "execution_count": 3,
   "id": "4f3cfca5",
   "metadata": {},
   "outputs": [],
   "source": [
    "SRC_DIR = './Data/XRay/'\n",
    "DST_DIR = './Data/XRay_/'\n",
    "TEST_DIR = 'test/'\n",
    "TRAIN_DIR = 'train/'"
   ]
  },
  {
   "cell_type": "code",
   "execution_count": 4,
   "id": "b1105d31",
   "metadata": {},
   "outputs": [],
   "source": [
    "AR_PCT_LO = 5   # Aspect-Ratio Percentile Lower-Bound\n",
    "AR_PCT_HI = 90  # Aspect-Ratio Percentile Upper-Bound\n",
    "IMG_TGT_H = 800 # Resizing Target Height"
   ]
  },
  {
   "cell_type": "code",
   "execution_count": 5,
   "id": "8d64b6ee",
   "metadata": {},
   "outputs": [],
   "source": [
    "os.mkdir(DST_DIR)\n",
    "os.mkdir(DST_DIR + TEST_DIR)\n",
    "os.mkdir(DST_DIR + TRAIN_DIR)"
   ]
  },
  {
   "cell_type": "code",
   "execution_count": 6,
   "id": "bec38825",
   "metadata": {},
   "outputs": [
    {
     "name": "stdout",
     "output_type": "stream",
     "text": [
      "NORMAL: 1349\n",
      "PNEUMONIA: 3883\n"
     ]
    },
    {
     "data": {
      "text/plain": [
       "5232"
      ]
     },
     "execution_count": 6,
     "metadata": {},
     "output_type": "execute_result"
    }
   ],
   "source": [
    "classes = os.listdir(SRC_DIR + TRAIN_DIR)\n",
    "train_files = []\n",
    "for klass in classes:\n",
    "    class_files = [TRAIN_DIR + klass + os.sep + fname\n",
    "                   for fname in os.listdir(SRC_DIR + TRAIN_DIR + klass)]\n",
    "    print(f'{klass}: {len(class_files)}')\n",
    "    train_files.extend(class_files)\n",
    "len(train_files)"
   ]
  },
  {
   "cell_type": "code",
   "execution_count": 7,
   "id": "5a5ef823",
   "metadata": {},
   "outputs": [
    {
     "name": "stdout",
     "output_type": "stream",
     "text": [
      "NORMAL: 234\n",
      "PNEUMONIA: 389\n"
     ]
    },
    {
     "data": {
      "text/plain": [
       "623"
      ]
     },
     "execution_count": 7,
     "metadata": {},
     "output_type": "execute_result"
    }
   ],
   "source": [
    "classes = os.listdir(SRC_DIR + TEST_DIR)\n",
    "test_files = []\n",
    "for klass in classes:\n",
    "    class_files = [TEST_DIR + klass + os.sep + fname\n",
    "                   for fname in os.listdir(SRC_DIR + TEST_DIR + klass)]\n",
    "    print(f'{klass}: {len(class_files)}')\n",
    "    test_files.extend(class_files)\n",
    "len(test_files)"
   ]
  },
  {
   "cell_type": "code",
   "execution_count": 8,
   "id": "7782316e",
   "metadata": {},
   "outputs": [],
   "source": [
    "for klass in classes:\n",
    "    os.mkdir(DST_DIR + TEST_DIR + klass)\n",
    "    os.mkdir(DST_DIR + TRAIN_DIR + klass)"
   ]
  },
  {
   "cell_type": "code",
   "execution_count": 9,
   "id": "b5c3010d",
   "metadata": {},
   "outputs": [],
   "source": [
    "def get_ars(fpaths):\n",
    "    ars = []\n",
    "    for fpath in fpaths:\n",
    "        img = plt.imread(SRC_DIR + fpath)\n",
    "        ars.append(img.shape[0] / img.shape[1])\n",
    "    return sorted(ars)"
   ]
  },
  {
   "cell_type": "code",
   "execution_count": 10,
   "id": "b89b052b",
   "metadata": {},
   "outputs": [],
   "source": [
    "def crop_to_ar(img, ar_lo, ar_hi):\n",
    "    img_ar = img.shape[0] / img.shape[1]\n",
    "    if img_ar < ar_lo:  # too wide\n",
    "        w = img.shape[0] / ar_lo\n",
    "        crop = int((img.shape[1] - w) // 2)\n",
    "        if crop <= 0:\n",
    "            return img\n",
    "        else:\n",
    "            return img[:, crop:-crop, ...]\n",
    "    elif img_ar > ar_hi:  # too tall\n",
    "        h = ar_hi * img.shape[1]\n",
    "        crop = int((img.shape[0] - h) // 2)\n",
    "        if crop <= 0:\n",
    "            return img\n",
    "        else:\n",
    "            return img[crop:-crop, :, ...]\n",
    "    return img"
   ]
  },
  {
   "cell_type": "code",
   "execution_count": 11,
   "id": "22bdcaec",
   "metadata": {},
   "outputs": [],
   "source": [
    "def process_img(fpath, ar_lo, ar_hi):\n",
    "    img = plt.imread(SRC_DIR + fpath)\n",
    "    if len(img.shape) > 2:\n",
    "        assert len(img.shape) == 3\n",
    "        assert img.shape[2] == 3\n",
    "        img = img[..., 0]\n",
    "    assert len(img.shape) == 2\n",
    "    return crop_to_ar(img, ar_lo, ar_hi)"
   ]
  },
  {
   "cell_type": "code",
   "execution_count": 12,
   "id": "f887fb57",
   "metadata": {},
   "outputs": [],
   "source": [
    "def process_files(fpaths, ar_lo, ar_hi):\n",
    "    for fpath in fpaths:\n",
    "        img = process_img(fpath, ar_lo, ar_hi)\n",
    "        img = np.expand_dims(img, axis=-1)\n",
    "        img_tgt_width = tf.cast(IMG_TGT_H / img.shape[0] * img.shape[1],\n",
    "                                tf.int32)\n",
    "        img = tf.image.resize(img, (IMG_TGT_H, img_tgt_width),\n",
    "                              method='bicubic', antialias=True)\n",
    "        img = tf.cast(img, tf.uint8)\n",
    "        tf.io.write_file(DST_DIR + fpath,\n",
    "                         tf.io.encode_jpeg(img, format='grayscale'))"
   ]
  },
  {
   "cell_type": "code",
   "execution_count": 13,
   "id": "cec941cc",
   "metadata": {},
   "outputs": [
    {
     "data": {
      "text/plain": [
       "array([0.29596413, 0.53543233, 0.70850311, 0.87016367, 1.19704433])"
      ]
     },
     "execution_count": 13,
     "metadata": {},
     "output_type": "execute_result"
    }
   ],
   "source": [
    "train_ars = get_ars(train_files)\n",
    "train_ar_lmh = np.percentile(train_ars, [0, AR_PCT_LO, 50, AR_PCT_HI, 100])\n",
    "train_ar_lmh"
   ]
  },
  {
   "cell_type": "code",
   "execution_count": 14,
   "id": "dc8099d1",
   "metadata": {},
   "outputs": [
    {
     "data": {
      "text/plain": [
       "array([0.38738739, 0.54218626, 0.70588235, 0.87590194, 1.09018987])"
      ]
     },
     "execution_count": 14,
     "metadata": {},
     "output_type": "execute_result"
    }
   ],
   "source": [
    "test_ars = get_ars(test_files)\n",
    "test_ar_lmh = np.percentile(test_ars, [0, AR_PCT_LO, 50, AR_PCT_HI, 100])\n",
    "test_ar_lmh"
   ]
  },
  {
   "cell_type": "code",
   "execution_count": 15,
   "id": "af5f8805",
   "metadata": {},
   "outputs": [],
   "source": [
    "process_files(train_files, train_ar_lmh[1], train_ar_lmh[3])"
   ]
  },
  {
   "cell_type": "code",
   "execution_count": 16,
   "id": "670aeb3a",
   "metadata": {},
   "outputs": [],
   "source": [
    "process_files(test_files, train_ar_lmh[1], train_ar_lmh[3])"
   ]
  },
  {
   "cell_type": "code",
   "execution_count": null,
   "id": "d2dfe952",
   "metadata": {},
   "outputs": [],
   "source": []
  }
 ],
 "metadata": {
  "kernelspec": {
   "display_name": "Python 3 (ipykernel)",
   "language": "python",
   "name": "python3"
  },
  "language_info": {
   "codemirror_mode": {
    "name": "ipython",
    "version": 3
   },
   "file_extension": ".py",
   "mimetype": "text/x-python",
   "name": "python",
   "nbconvert_exporter": "python",
   "pygments_lexer": "ipython3",
   "version": "3.9.10"
  }
 },
 "nbformat": 4,
 "nbformat_minor": 5
}
